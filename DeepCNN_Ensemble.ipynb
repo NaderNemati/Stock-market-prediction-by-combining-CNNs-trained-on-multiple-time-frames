{
  "cells": [
    {
      "cell_type": "code",
      "execution_count": 1,
      "metadata": {
        "colab": {
          "base_uri": "https://localhost:8080/"
        },
        "id": "FOubc5RsFruZ",
        "outputId": "7ac824d0-6124-4304-a8ea-fae83b32bbd0"
      },
      "outputs": [
        {
          "output_type": "stream",
          "name": "stdout",
          "text": [
            "Mounted at /content/drive\n"
          ]
        }
      ],
      "source": [
        "from google.colab import drive\n",
        "drive.mount('/content/drive')"
      ]
    },
    {
      "cell_type": "markdown",
      "metadata": {
        "id": "V_tjVVSMRy7W"
      },
      "source": [
        "# **libraries**\n"
      ]
    },
    {
      "cell_type": "code",
      "execution_count": 2,
      "metadata": {
        "id": "R33LfHq58JRl"
      },
      "outputs": [],
      "source": [
        "import numpy as np\n",
        "import time\n",
        "import random\n",
        "import statistics as sts\n",
        "from scipy.stats.mstats import gmean\n",
        "from scipy import stats\n",
        "\n",
        "import tensorflow as tf\n",
        "from tensorflow.keras import backend as Bkd\n",
        "from tensorflow.keras.layers import Lambda\n",
        "\n",
        "from tensorflow.keras.models import Sequential\n",
        "from tensorflow.keras.layers import Dense, LSTM, Embedding, Dropout, Conv1D,Flatten, MaxPool1D, GRU, BatchNormalization\n",
        "from tensorflow.keras.optimizers import Adam, Nadam, SGD\n",
        "from tensorflow.keras import backend as K\n",
        "from sklearn.decomposition import PCA\n",
        "import math\n",
        "import matplotlib.pyplot as plt\n",
        "import pandas as pd\n",
        "\n",
        "from tensorflow.compat.v1.random import set_random_seed\n",
        "\n",
        "import math\n",
        "\n",
        "from sklearn.preprocessing import MinMaxScaler\n",
        "\n",
        "from keras.layers import TimeDistributed\n",
        "from keras.backend import sigmoid\n",
        "\n",
        "from keras.models import Sequential\n",
        "\n",
        "\n",
        "from keras.layers import TimeDistributed\n",
        "\n",
        "from tensorflow.keras.layers import Lambda\n",
        "from tensorflow.keras import backend as K\n",
        "from scipy import stats\n",
        "import statistics as sts\n",
        "from scipy.stats.mstats import gmean\n",
        "from keras.layers import concatenate\n",
        "import numpy as np\n",
        "import tensorflow as tf\n",
        "from tensorflow import keras\n",
        "from tensorflow.keras import layers\n",
        "\n",
        "plt.style.use('fivethirtyeight')"
      ]
    },
    {
      "cell_type": "code",
      "execution_count": 3,
      "metadata": {
        "id": "N8RK-1bvEPlZ"
      },
      "outputs": [],
      "source": [
        "WIND = 70\n",
        "BATCH = 40\n",
        "EPOCH = 40\n",
        "activation=['tanh']"
      ]
    },
    {
      "cell_type": "code",
      "execution_count": 4,
      "metadata": {
        "id": "SOHMaf3ZETzI",
        "colab": {
          "base_uri": "https://localhost:8080/"
        },
        "outputId": "e711f45d-0af4-4ac3-be1a-c57c6abf3b9b"
      },
      "outputs": [
        {
          "output_type": "stream",
          "name": "stdout",
          "text": [
            "-------------------------------------------------\n",
            "Window size =  70\n",
            "Batch  size =  40\n",
            "Epochs      =  40\n",
            "-------------------------------------------------\n"
          ]
        }
      ],
      "source": [
        "print('-------------------------------------------------')\n",
        "print('Window size = ',WIND)\n",
        "print('Batch  size = ',BATCH)\n",
        "print('Epochs      = ',EPOCH)\n",
        "print('-------------------------------------------------')"
      ]
    },
    {
      "cell_type": "markdown",
      "metadata": {
        "id": "JH3fs05cR41W"
      },
      "source": [
        "# **dataSets, EUR/USD on 30 minutes, 15 minutes, 1 hour**"
      ]
    },
    {
      "cell_type": "code",
      "execution_count": 5,
      "metadata": {
        "id": "krL6PiPjhRYl"
      },
      "outputs": [],
      "source": [
        "#/content/drive/MyDrive/EUR-USD/H_1/EURUSD_Candlestick_1_Hour_ASK_01.01.2015-31.12.2020.csv\n",
        "#/content/drive/MyDrive/EUR-USD/H_1/EURUSD_Candlestick_1_Hour_BID_01.01.2015-14.09.2021.csv\n",
        "#/content/drive/MyDrive/EUR-USD/H_1/EURUSD_Candlestick_1_Hour_BID_01.01.2015-31.12.2020.csv"
      ]
    },
    {
      "cell_type": "code",
      "execution_count": 6,
      "metadata": {
        "id": "67RgFNg8RVKL"
      },
      "outputs": [],
      "source": [
        "df_M_15 = pd.read_csv('/content/drive/MyDrive/EUR-USD/M_15/M_15_EUR_USD.csv',index_col=0)[157919:210528]\n",
        "\n",
        "df_M_30 = pd.read_csv('/content/drive/MyDrive/EUR-USD/M_30/M_30_EUR_USD.csv',index_col=0)[52655:105264]\n",
        "\n",
        "df_H_1 = pd.read_csv('/content/drive/MyDrive/EUR-USD/H_1/EURUSD_Candlestick_1_Hour_BID_01.01.2015-31.12.2020.csv',index_col=0)"
      ]
    },
    {
      "cell_type": "code",
      "execution_count": 7,
      "metadata": {
        "id": "INA84p69w_T5",
        "colab": {
          "base_uri": "https://localhost:8080/"
        },
        "outputId": "c0d76ec7-1932-43dd-89ae-61826b1c0094"
      },
      "outputs": [
        {
          "output_type": "stream",
          "name": "stdout",
          "text": [
            "52609\n",
            "52609\n",
            "52609\n"
          ]
        }
      ],
      "source": [
        "print(len(df_M_15))\n",
        "print(len(df_M_30))\n",
        "print(len(df_H_1))"
      ]
    },
    {
      "cell_type": "code",
      "execution_count": 8,
      "metadata": {
        "id": "4aH8M3jqJguD",
        "colab": {
          "base_uri": "https://localhost:8080/"
        },
        "outputId": "057336a7-7a08-4e52-e850-790c9fdc6fbd"
      },
      "outputs": [
        {
          "output_type": "stream",
          "name": "stdout",
          "text": [
            "                              Local time     Open     High      Low    Close  \\\n",
            "52703   03.07.2019 00:45:00.000 GMT+0430  1.12852  1.12863  1.12849  1.12852   \n",
            "52704   03.07.2019 01:00:00.000 GMT+0430  1.12852  1.12887  1.12847  1.12882   \n",
            "52705   03.07.2019 01:15:00.000 GMT+0430  1.12883  1.12884  1.12843  1.12847   \n",
            "52706   03.07.2019 01:30:00.000 GMT+0430  1.12842  1.12886  1.12839  1.12875   \n",
            "52707   03.07.2019 01:45:00.000 GMT+0430  1.12876  1.12897  1.12835  1.12880   \n",
            "...                                  ...      ...      ...      ...      ...   \n",
            "105307  31.12.2020 22:45:00.000 GMT+0330  1.22179  1.22199  1.22169  1.22194   \n",
            "105308  31.12.2020 23:00:00.000 GMT+0330  1.22194  1.22228  1.22190  1.22219   \n",
            "105309  31.12.2020 23:15:00.000 GMT+0330  1.22217  1.22217  1.22091  1.22098   \n",
            "105310  31.12.2020 23:30:00.000 GMT+0330  1.22096  1.22158  1.22096  1.22143   \n",
            "105311  31.12.2020 23:45:00.000 GMT+0330  1.22143  1.22167  1.22140  1.22154   \n",
            "\n",
            "         Volume  \n",
            "52703    991.81  \n",
            "52704    900.60  \n",
            "52705    556.28  \n",
            "52706    219.35  \n",
            "52707    480.39  \n",
            "...         ...  \n",
            "105307   703.06  \n",
            "105308   391.38  \n",
            "105309  1521.39  \n",
            "105310   359.53  \n",
            "105311   355.43  \n",
            "\n",
            "[52609 rows x 6 columns]\n",
            "----------------------------------------------------------------------------------------------------------------\n",
            "                             Local time     Open     High      Low    Close  \\\n",
            "47     31.12.2017 23:30:00.000 GMT+0330  1.19985  1.19985  1.19985  1.19985   \n",
            "48     01.01.2018 00:00:00.000 GMT+0330  1.19985  1.19985  1.19985  1.19985   \n",
            "49     01.01.2018 00:30:00.000 GMT+0330  1.19985  1.19985  1.19985  1.19985   \n",
            "50     01.01.2018 01:00:00.000 GMT+0330  1.19985  1.19985  1.19985  1.19985   \n",
            "51     01.01.2018 01:30:00.000 GMT+0330  1.19985  1.19985  1.19985  1.19985   \n",
            "...                                 ...      ...      ...      ...      ...   \n",
            "52651  31.12.2020 21:30:00.000 GMT+0330  1.22251  1.22279  1.22180  1.22222   \n",
            "52652  31.12.2020 22:00:00.000 GMT+0330  1.22221  1.22221  1.22149  1.22166   \n",
            "52653  31.12.2020 22:30:00.000 GMT+0330  1.22166  1.22199  1.22101  1.22194   \n",
            "52654  31.12.2020 23:00:00.000 GMT+0330  1.22194  1.22228  1.22091  1.22098   \n",
            "52655  31.12.2020 23:30:00.000 GMT+0330  1.22096  1.22167  1.22096  1.22154   \n",
            "\n",
            "        Volume  \n",
            "47        0.00  \n",
            "48        0.00  \n",
            "49        0.00  \n",
            "50        0.00  \n",
            "51        0.00  \n",
            "...        ...  \n",
            "52651  2590.06  \n",
            "52652  1730.50  \n",
            "52653  1745.57  \n",
            "52654  1912.77  \n",
            "52655   714.96  \n",
            "\n",
            "[52609 rows x 6 columns]\n",
            "----------------------------------------------------------------------------------------------------------------\n",
            "                                     Open     High      Low    Close  \\\n",
            "Local time                                                             \n",
            "31.12.2014 23:30:00.000 GMT+0330  1.21016  1.21024  1.20968  1.21007   \n",
            "01.01.2015 00:30:00.000 GMT+0330  1.21005  1.21008  1.20969  1.20971   \n",
            "01.01.2015 01:30:00.000 GMT+0330  1.20969  1.20976  1.20969  1.20976   \n",
            "01.01.2015 02:30:00.000 GMT+0330  1.20976  1.20976  1.20976  1.20976   \n",
            "01.01.2015 03:30:00.000 GMT+0330  1.20976  1.20976  1.20976  1.20976   \n",
            "...                                   ...      ...      ...      ...   \n",
            "31.12.2020 19:30:00.000 GMT+0330  1.22384  1.22402  1.22208  1.22299   \n",
            "31.12.2020 20:30:00.000 GMT+0330  1.22298  1.22346  1.22217  1.22250   \n",
            "31.12.2020 21:30:00.000 GMT+0330  1.22251  1.22279  1.22149  1.22166   \n",
            "31.12.2020 22:30:00.000 GMT+0330  1.22166  1.22228  1.22091  1.22098   \n",
            "31.12.2020 23:30:00.000 GMT+0330  1.22096  1.22192  1.22096  1.22158   \n",
            "\n",
            "                                      Volume  \n",
            "Local time                                    \n",
            "31.12.2014 23:30:00.000 GMT+0330   2422.5601  \n",
            "01.01.2015 00:30:00.000 GMT+0330   1829.5100  \n",
            "01.01.2015 01:30:00.000 GMT+0330      1.5000  \n",
            "01.01.2015 02:30:00.000 GMT+0330      0.0000  \n",
            "01.01.2015 03:30:00.000 GMT+0330      0.0000  \n",
            "...                                      ...  \n",
            "31.12.2020 19:30:00.000 GMT+0330  12576.9199  \n",
            "31.12.2020 20:30:00.000 GMT+0330   5631.9399  \n",
            "31.12.2020 21:30:00.000 GMT+0330   4320.5601  \n",
            "31.12.2020 22:30:00.000 GMT+0330   3658.3401  \n",
            "31.12.2020 23:30:00.000 GMT+0330   2118.1399  \n",
            "\n",
            "[52609 rows x 5 columns]\n"
          ]
        }
      ],
      "source": [
        "print(df_M_15)\n",
        "print('----------------------------------------------------------------------------------------------------------------')\n",
        "print(df_M_30)\n",
        "print('----------------------------------------------------------------------------------------------------------------')\n",
        "print(df_H_1)"
      ]
    },
    {
      "cell_type": "code",
      "execution_count": 9,
      "metadata": {
        "id": "6WeFWHXrJlGc"
      },
      "outputs": [],
      "source": [
        "df_M_15 = df_M_15.drop(columns='Local time')"
      ]
    },
    {
      "cell_type": "code",
      "execution_count": 10,
      "metadata": {
        "id": "KJj4HC9rKoQ2"
      },
      "outputs": [],
      "source": [
        "df_M_30 = df_M_30.drop(columns='Local time')"
      ]
    },
    {
      "cell_type": "code",
      "execution_count": 11,
      "metadata": {
        "id": "qQdCK0I8KoN8"
      },
      "outputs": [],
      "source": [
        "#df_H_1 = df_H_1.drop(columns='Local time')"
      ]
    },
    {
      "cell_type": "code",
      "execution_count": 12,
      "metadata": {
        "id": "R8VJADrMKoKz"
      },
      "outputs": [],
      "source": [
        "df_M_15 = df_M_15.drop(columns='Volume')"
      ]
    },
    {
      "cell_type": "code",
      "execution_count": 13,
      "metadata": {
        "id": "SUlB5rByYotE"
      },
      "outputs": [],
      "source": [
        "df_M_30 = df_M_30.drop(columns='Volume')"
      ]
    },
    {
      "cell_type": "code",
      "execution_count": 14,
      "metadata": {
        "id": "en1uOkyFYopr"
      },
      "outputs": [],
      "source": [
        "df_H_1 = df_H_1.drop(columns='Volume')"
      ]
    },
    {
      "cell_type": "code",
      "execution_count": 15,
      "metadata": {
        "id": "BR2wdoc6xyS_",
        "colab": {
          "base_uri": "https://localhost:8080/"
        },
        "outputId": "1e7583f8-4190-4bef-8036-1ccfe92e2f39"
      },
      "outputs": [
        {
          "output_type": "stream",
          "name": "stdout",
          "text": [
            "           Open     High      Low    Close\n",
            "52703   1.12852  1.12863  1.12849  1.12852\n",
            "52704   1.12852  1.12887  1.12847  1.12882\n",
            "52705   1.12883  1.12884  1.12843  1.12847\n",
            "52706   1.12842  1.12886  1.12839  1.12875\n",
            "52707   1.12876  1.12897  1.12835  1.12880\n",
            "...         ...      ...      ...      ...\n",
            "105307  1.22179  1.22199  1.22169  1.22194\n",
            "105308  1.22194  1.22228  1.22190  1.22219\n",
            "105309  1.22217  1.22217  1.22091  1.22098\n",
            "105310  1.22096  1.22158  1.22096  1.22143\n",
            "105311  1.22143  1.22167  1.22140  1.22154\n",
            "\n",
            "[52609 rows x 4 columns]\n",
            "----------------------------------------------------------------------------------------------------------------\n",
            "          Open     High      Low    Close\n",
            "47     1.19985  1.19985  1.19985  1.19985\n",
            "48     1.19985  1.19985  1.19985  1.19985\n",
            "49     1.19985  1.19985  1.19985  1.19985\n",
            "50     1.19985  1.19985  1.19985  1.19985\n",
            "51     1.19985  1.19985  1.19985  1.19985\n",
            "...        ...      ...      ...      ...\n",
            "52651  1.22251  1.22279  1.22180  1.22222\n",
            "52652  1.22221  1.22221  1.22149  1.22166\n",
            "52653  1.22166  1.22199  1.22101  1.22194\n",
            "52654  1.22194  1.22228  1.22091  1.22098\n",
            "52655  1.22096  1.22167  1.22096  1.22154\n",
            "\n",
            "[52609 rows x 4 columns]\n",
            "----------------------------------------------------------------------------------------------------------------\n",
            "                                     Open     High      Low    Close\n",
            "Local time                                                          \n",
            "31.12.2014 23:30:00.000 GMT+0330  1.21016  1.21024  1.20968  1.21007\n",
            "01.01.2015 00:30:00.000 GMT+0330  1.21005  1.21008  1.20969  1.20971\n",
            "01.01.2015 01:30:00.000 GMT+0330  1.20969  1.20976  1.20969  1.20976\n",
            "01.01.2015 02:30:00.000 GMT+0330  1.20976  1.20976  1.20976  1.20976\n",
            "01.01.2015 03:30:00.000 GMT+0330  1.20976  1.20976  1.20976  1.20976\n",
            "...                                   ...      ...      ...      ...\n",
            "31.12.2020 19:30:00.000 GMT+0330  1.22384  1.22402  1.22208  1.22299\n",
            "31.12.2020 20:30:00.000 GMT+0330  1.22298  1.22346  1.22217  1.22250\n",
            "31.12.2020 21:30:00.000 GMT+0330  1.22251  1.22279  1.22149  1.22166\n",
            "31.12.2020 22:30:00.000 GMT+0330  1.22166  1.22228  1.22091  1.22098\n",
            "31.12.2020 23:30:00.000 GMT+0330  1.22096  1.22192  1.22096  1.22158\n",
            "\n",
            "[52609 rows x 4 columns]\n"
          ]
        }
      ],
      "source": [
        "print(df_M_15)\n",
        "print('----------------------------------------------------------------------------------------------------------------')\n",
        "print(df_M_30)\n",
        "print('----------------------------------------------------------------------------------------------------------------')\n",
        "print(df_H_1)"
      ]
    },
    {
      "cell_type": "code",
      "execution_count": null,
      "metadata": {
        "id": "XH2wECAO1Wg6",
        "colab": {
          "base_uri": "https://localhost:8080/"
        },
        "outputId": "094e3aee-195a-4694-da15-016a0337ffa9"
      },
      "outputs": [
        {
          "output_type": "stream",
          "name": "stdout",
          "text": [
            "           Open     High      Low    Close\n",
            "52703   1.12852  1.12863  1.12849  1.12852\n",
            "52704   1.12852  1.12887  1.12847  1.12882\n",
            "52705   1.12883  1.12884  1.12843  1.12847\n",
            "52706   1.12842  1.12886  1.12839  1.12875\n",
            "52707   1.12876  1.12897  1.12835  1.12880\n",
            "...         ...      ...      ...      ...\n",
            "105307  1.22179  1.22199  1.22169  1.22194\n",
            "105308  1.22194  1.22228  1.22190  1.22219\n",
            "105309  1.22217  1.22217  1.22091  1.22098\n",
            "105310  1.22096  1.22158  1.22096  1.22143\n",
            "105311  1.22143  1.22167  1.22140  1.22154\n",
            "\n",
            "[52609 rows x 4 columns]\n",
            "----------------------------------------------------------------------------------------------------------------\n",
            "          Open     High      Low    Close\n",
            "47     1.19985  1.19985  1.19985  1.19985\n",
            "48     1.19985  1.19985  1.19985  1.19985\n",
            "49     1.19985  1.19985  1.19985  1.19985\n",
            "50     1.19985  1.19985  1.19985  1.19985\n",
            "51     1.19985  1.19985  1.19985  1.19985\n",
            "...        ...      ...      ...      ...\n",
            "52651  1.22251  1.22279  1.22180  1.22222\n",
            "52652  1.22221  1.22221  1.22149  1.22166\n",
            "52653  1.22166  1.22199  1.22101  1.22194\n",
            "52654  1.22194  1.22228  1.22091  1.22098\n",
            "52655  1.22096  1.22167  1.22096  1.22154\n",
            "\n",
            "[52609 rows x 4 columns]\n",
            "----------------------------------------------------------------------------------------------------------------\n",
            "                                     Open     High      Low    Close\n",
            "Local time                                                          \n",
            "31.12.2014 23:30:00.000 GMT+0330  1.21016  1.21024  1.20968  1.21007\n",
            "01.01.2015 00:30:00.000 GMT+0330  1.21005  1.21008  1.20969  1.20971\n",
            "01.01.2015 01:30:00.000 GMT+0330  1.20969  1.20976  1.20969  1.20976\n",
            "01.01.2015 02:30:00.000 GMT+0330  1.20976  1.20976  1.20976  1.20976\n",
            "01.01.2015 03:30:00.000 GMT+0330  1.20976  1.20976  1.20976  1.20976\n",
            "...                                   ...      ...      ...      ...\n",
            "31.12.2020 19:30:00.000 GMT+0330  1.22384  1.22402  1.22208  1.22299\n",
            "31.12.2020 20:30:00.000 GMT+0330  1.22298  1.22346  1.22217  1.22250\n",
            "31.12.2020 21:30:00.000 GMT+0330  1.22251  1.22279  1.22149  1.22166\n",
            "31.12.2020 22:30:00.000 GMT+0330  1.22166  1.22228  1.22091  1.22098\n",
            "31.12.2020 23:30:00.000 GMT+0330  1.22096  1.22192  1.22096  1.22158\n",
            "\n",
            "[52609 rows x 4 columns]\n"
          ]
        }
      ],
      "source": [
        "print(df_M_15)\n",
        "print('----------------------------------------------------------------------------------------------------------------')\n",
        "print(df_M_30)\n",
        "print('----------------------------------------------------------------------------------------------------------------')\n",
        "print(df_H_1)"
      ]
    },
    {
      "cell_type": "markdown",
      "metadata": {
        "id": "rXYSvttMSOk-"
      },
      "source": [
        "# **Split**"
      ]
    },
    {
      "cell_type": "code",
      "execution_count": null,
      "metadata": {
        "id": "4ySF5iJLRVKh"
      },
      "outputs": [],
      "source": [
        "trainsize_15=int(len(df_M_15)*0.8)\n",
        "testsize_15=len(df_M_15)-trainsize_15\n",
        "\n",
        "trainsize_30=int(len(df_M_30)*0.8)\n",
        "testsize_30=len(df_M_30)-trainsize_30\n",
        "\n",
        "trainsize_1=int(len(df_H_1)*0.8)\n",
        "testsize_1=len(df_H_1)-trainsize_1"
      ]
    },
    {
      "cell_type": "code",
      "execution_count": null,
      "metadata": {
        "id": "66MgwZIcRVKh"
      },
      "outputs": [],
      "source": [
        "Total_len_15 = len(df_M_15)\n",
        "Train_len_15 = Total_len_15 - testsize_15\n",
        "Test_len_15 = Total_len_15 - Train_len_15\n",
        "Train_15 = df_M_15.head(n = Train_len_15)\n",
        "Test_15 = df_M_15.tail(n = Test_len_15)\n",
        "\n",
        "Total_len_30 = len(df_M_30)\n",
        "Train_len_30 = Total_len_30 - testsize_30\n",
        "Test_len_30 = Total_len_30 - Train_len_30\n",
        "Train_30 = df_M_30.head(n = Train_len_30)\n",
        "Test_30 = df_M_30.tail(n = Test_len_30)\n",
        "\n",
        "Total_len_1 = len(df_H_1)\n",
        "Train_len_1 = Total_len_1 - testsize_1\n",
        "Test_len_1 = Total_len_1 - Train_len_1\n",
        "Train_1 = df_H_1.head(n = Train_len_1)\n",
        "Test_1 = df_H_1.tail(n = Test_len_1)"
      ]
    },
    {
      "cell_type": "code",
      "execution_count": null,
      "metadata": {
        "id": "W78TD8BvObRC",
        "colab": {
          "base_uri": "https://localhost:8080/"
        },
        "outputId": "6379f2c7-04ad-4750-e20f-23317e0dfa8f"
      },
      "outputs": [
        {
          "output_type": "stream",
          "name": "stdout",
          "text": [
            "          Open     High      Low    Close\n",
            "47     1.19985  1.19985  1.19985  1.19985\n",
            "48     1.19985  1.19985  1.19985  1.19985\n",
            "49     1.19985  1.19985  1.19985  1.19985\n",
            "50     1.19985  1.19985  1.19985  1.19985\n",
            "51     1.19985  1.19985  1.19985  1.19985\n",
            "...        ...      ...      ...      ...\n",
            "42129  1.09706  1.09769  1.09640  1.09697\n",
            "42130  1.09700  1.09801  1.09671  1.09794\n",
            "42131  1.09793  1.09869  1.09729  1.09732\n",
            "42132  1.09733  1.09898  1.09725  1.09867\n",
            "42133  1.09868  1.09917  1.09781  1.09787\n",
            "\n",
            "[42087 rows x 4 columns]\n",
            "          Open     High      Low    Close\n",
            "42134  1.09787  1.09794  1.09689  1.09692\n",
            "42135  1.09692  1.09719  1.09678  1.09685\n",
            "42136  1.09684  1.09767  1.09684  1.09763\n",
            "42137  1.09764  1.09847  1.09704  1.09811\n",
            "42138  1.09811  1.09824  1.09770  1.09789\n",
            "...        ...      ...      ...      ...\n",
            "52651  1.22251  1.22279  1.22180  1.22222\n",
            "52652  1.22221  1.22221  1.22149  1.22166\n",
            "52653  1.22166  1.22199  1.22101  1.22194\n",
            "52654  1.22194  1.22228  1.22091  1.22098\n",
            "52655  1.22096  1.22167  1.22096  1.22154\n",
            "\n",
            "[10522 rows x 4 columns]\n"
          ]
        }
      ],
      "source": [
        "print(Train_30)\n",
        "print(Test_30)"
      ]
    },
    {
      "cell_type": "code",
      "execution_count": null,
      "metadata": {
        "id": "Vxo9_6M6MOh8",
        "colab": {
          "base_uri": "https://localhost:8080/"
        },
        "outputId": "d921fb72-6457-45e1-f25a-75c591d59d6e"
      },
      "outputs": [
        {
          "output_type": "stream",
          "name": "stdout",
          "text": [
            "42087\n",
            "10522\n"
          ]
        }
      ],
      "source": [
        "print(len(Train_30))\n",
        "\n",
        "print(len(Test_30))"
      ]
    },
    {
      "cell_type": "markdown",
      "metadata": {
        "id": "lQWlTrIgSUQU"
      },
      "source": [
        "# **Parameters**"
      ]
    },
    {
      "cell_type": "code",
      "execution_count": null,
      "metadata": {
        "id": "rv93pcXRRVKh"
      },
      "outputs": [],
      "source": [
        "P_15 = ((Train_15[Train_15.columns[0]] + Train_15[Train_15.columns[1]] + Train_15[Train_15.columns[2]] + Train_15[Train_15.columns[3]]))\n",
        "\n",
        "P_30 = ((Train_30[Train_30.columns[0]] + Train_30[Train_30.columns[1]] + Train_30[Train_30.columns[2]] + Train_30[Train_30.columns[3]]))\n",
        "\n",
        "P_1 = ((Train_1[Train_1.columns[0]] + Train_1[Train_1.columns[1]] + Train_1[Train_1.columns[2]] + Train_1[Train_1.columns[3]]))"
      ]
    },
    {
      "cell_type": "code",
      "execution_count": null,
      "metadata": {
        "id": "hLib9nfNRVKi"
      },
      "outputs": [],
      "source": [
        "P1_15 = np.array(P_15)\n",
        "\n",
        "P1_30 = np.array(P_30)\n",
        "\n",
        "P1_1 = np.array(P_1)"
      ]
    },
    {
      "cell_type": "code",
      "execution_count": null,
      "metadata": {
        "id": "G60xx7AdRVKj",
        "colab": {
          "base_uri": "https://localhost:8080/"
        },
        "outputId": "1cba180e-158c-4fe5-9827-8f0fa4185a82"
      },
      "outputs": [
        {
          "output_type": "stream",
          "name": "stdout",
          "text": [
            "ModeResult(mode=array([1.07955]), count=array([197]))\n",
            "----------------------------------------------------------\n",
            "ModeResult(mode=array([1.0976]), count=array([100]))\n",
            "----------------------------------------------------------\n",
            "ModeResult(mode=array([1.08818]), count=array([96]))\n"
          ]
        },
        {
          "output_type": "stream",
          "name": "stderr",
          "text": [
            "<ipython-input-23-70ee9890b4d9>:1: FutureWarning: Unlike other reduction functions (e.g. `skew`, `kurtosis`), the default behavior of `mode` typically preserves the axis it acts along. In SciPy 1.11.0, this behavior will change: the default value of `keepdims` will become False, the `axis` over which the statistic is taken will be eliminated, and the value None will no longer be accepted. Set `keepdims` to True or False to avoid this warning.\n",
            "  m_15 = stats.mode(P1_15)\n",
            "<ipython-input-23-70ee9890b4d9>:4: FutureWarning: Unlike other reduction functions (e.g. `skew`, `kurtosis`), the default behavior of `mode` typically preserves the axis it acts along. In SciPy 1.11.0, this behavior will change: the default value of `keepdims` will become False, the `axis` over which the statistic is taken will be eliminated, and the value None will no longer be accepted. Set `keepdims` to True or False to avoid this warning.\n",
            "  m_30 = stats.mode(P1_30)\n",
            "<ipython-input-23-70ee9890b4d9>:7: FutureWarning: Unlike other reduction functions (e.g. `skew`, `kurtosis`), the default behavior of `mode` typically preserves the axis it acts along. In SciPy 1.11.0, this behavior will change: the default value of `keepdims` will become False, the `axis` over which the statistic is taken will be eliminated, and the value None will no longer be accepted. Set `keepdims` to True or False to avoid this warning.\n",
            "  m_1 = stats.mode(P1_1)\n"
          ]
        }
      ],
      "source": [
        "m_15 = stats.mode(P1_15)\n",
        "print(m_15)\n",
        "print('----------------------------------------------------------')\n",
        "m_30 = stats.mode(P1_30)\n",
        "print(m_30)\n",
        "print('----------------------------------------------------------')\n",
        "m_1 = stats.mode(P1_1)\n",
        "print(m_1)\n"
      ]
    },
    {
      "cell_type": "code",
      "execution_count": null,
      "metadata": {
        "id": "Be87thkqRVKj",
        "colab": {
          "base_uri": "https://localhost:8080/"
        },
        "outputId": "212e8490-4166-4553-ba62-dc19e4ba87a6"
      },
      "outputs": [
        {
          "output_type": "stream",
          "name": "stdout",
          "text": [
            "mode=  1.07955\n",
            "min =  1.06357\n",
            "Max =  1.20113\n",
            "Harmonic Avg. =  1.1153159271102946\n",
            "Geometric Mean =  1.1156528577066471\n",
            "mode=  1.0976\n",
            "min =  1.06357\n",
            "Max =  1.25553\n",
            "Harmonic Avg. =  1.139732073437345\n",
            "Geometric Mean =  1.1405124394423276\n",
            "mode=  1.08818\n",
            "min =  1.03403\n",
            "Max =  1.25553\n",
            "Harmonic Avg. =  1.1286383173514027\n",
            "Geometric Mean =  1.1294664589016936\n"
          ]
        }
      ],
      "source": [
        "MODE_15 = 1.07955\n",
        "H_MEAN_15 = sts.harmonic_mean(P_15)\n",
        "VAR_15 = sts.stdev(P_15)\n",
        "Train_Min_15 = min(Train_15.min())\n",
        "Train_Max_15 = max(Train_15.max())\n",
        "print('mode= ', MODE_15)\n",
        "print('min = ', Train_Min_15)\n",
        "print('Max = ', Train_Max_15)\n",
        "print('Harmonic Avg. = ', H_MEAN_15)\n",
        "print('Geometric Mean = ', G_MEAN_15)\n",
        "\n",
        "MODE_30 = 1.0976\n",
        "H_MEAN_30 = sts.harmonic_mean(P_30)\n",
        "VAR_30 = sts.stdev(P_30)\n",
        "Train_Min_30 = min(Train_30.min())\n",
        "Train_Max_30 = max(Train_30.max())\n",
        "print('mode= ', MODE_30)\n",
        "print('min = ', Train_Min_30)\n",
        "print('Max = ', Train_Max_30)\n",
        "print('Harmonic Avg. = ', H_MEAN_30)\n",
        "print('Geometric Mean = ', G_MEAN_30)\n",
        "\n",
        "MODE_1 = 1.08818\n",
        "H_MEAN_1 = sts.harmonic_mean(P_1)\n",
        "VAR_1 = sts.stdev(P_1)\n",
        "Train_Min_1 = min(Train_1.min())\n",
        "Train_Max_1 = max(Train_1.max())\n",
        "print('mode= ', MODE_1)\n",
        "print('min = ', Train_Min_1)\n",
        "print('Max = ', Train_Max_1)\n",
        "print('Harmonic Avg. = ', H_MEAN_1)\n",
        "print('Geometric Mean = ', G_MEAN_1)\n"
      ]
    },
    {
      "cell_type": "markdown",
      "metadata": {
        "id": "1RuUr7hRSZ4n"
      },
      "source": [
        "# **Normalization**"
      ]
    },
    {
      "cell_type": "code",
      "execution_count": null,
      "metadata": {
        "id": "SKIFpXWgRVKk"
      },
      "outputs": [],
      "source": [
        "ColList=range(4)\n",
        "ColList = list(ColList)"
      ]
    },
    {
      "cell_type": "code",
      "execution_count": null,
      "metadata": {
        "id": "TsgTAOgoRVKk"
      },
      "outputs": [],
      "source": [
        "DF_std_15 = Train_15.copy()\n",
        "DF_temp_15 = (Train_15.iloc[:, ColList] - H_MEAN_15) / (Train_Max_15 - Train_Min_15)\n",
        "DF_std_15[ColList] = DF_temp_15\n",
        "Train_std_15 = DF_std_15[ColList]\n",
        "\n",
        "DF_std_30 = Train_30.copy()\n",
        "DF_temp_30 = (Train_30.iloc[:, ColList] - H_MEAN_30) / (Train_Max_30 - Train_Min_30)\n",
        "DF_std_30[ColList] = DF_temp_30\n",
        "Train_std_30 = DF_std_30[ColList]\n",
        "\n",
        "DF_std_1 = Train_1.copy()\n",
        "DF_temp_1 = (Train_1.iloc[:, ColList] - H_MEAN_1) / (Train_Max_1 - Train_Min_1)\n",
        "DF_std_1[ColList] = DF_temp_1\n",
        "Train_std_1 = DF_std_1[ColList]\n"
      ]
    },
    {
      "cell_type": "code",
      "execution_count": null,
      "metadata": {
        "id": "LlVcmFe2RVKl"
      },
      "outputs": [],
      "source": [
        "DF_std_15 = Test_15.copy()\n",
        "DF_temp_15 = (Test_15.iloc[:, ColList] - H_MEAN_15) / (Train_Max_15 - Train_Min_15)\n",
        "DF_std_15[ColList] = DF_temp_15\n",
        "Test_std_15 = DF_std_15[ColList]\n",
        "\n",
        "DF_std_30 = Test_30.copy()\n",
        "DF_temp_30 = (Test_30.iloc[:, ColList] - H_MEAN_30) / (Train_Max_30 - Train_Min_30)\n",
        "DF_std_30[ColList] = DF_temp_30\n",
        "Test_std_30 = DF_std_30[ColList]\n",
        "\n",
        "DF_std_1 = Test_1.copy()\n",
        "DF_temp_1 = (Test_1.iloc[:, ColList] - H_MEAN_1) / (Train_Max_1 - Train_Min_1)\n",
        "DF_std_1[ColList] = DF_temp_1\n",
        "Test_std_1 = DF_std_1[ColList]\n"
      ]
    },
    {
      "cell_type": "code",
      "execution_count": null,
      "metadata": {
        "id": "VwaHneynPBao",
        "colab": {
          "base_uri": "https://localhost:8080/",
          "height": 423
        },
        "outputId": "c6e9f344-baee-43eb-aa60-caebf0270060"
      },
      "outputs": [
        {
          "output_type": "execute_result",
          "data": {
            "text/plain": [
              "              0         1         2         3\n",
              "52703  0.095988  0.096787  0.095770  0.095988\n",
              "52704  0.095988  0.098532  0.095624  0.098169\n",
              "52705  0.098241  0.098314  0.095333  0.095624\n",
              "52706  0.095261  0.098459  0.095043  0.097660\n",
              "52707  0.097732  0.099259  0.094752  0.098023\n",
              "...         ...       ...       ...       ...\n",
              "94785  0.503156  0.503156  0.503156  0.503156\n",
              "94786  0.503156  0.503156  0.503156  0.503156\n",
              "94787  0.503156  0.503156  0.503156  0.503156\n",
              "94788  0.503156  0.503156  0.503156  0.503156\n",
              "94789  0.503156  0.503156  0.503156  0.503156\n",
              "\n",
              "[42087 rows x 4 columns]"
            ],
            "text/html": [
              "\n",
              "  <div id=\"df-04336866-408a-4d56-80ec-85321fbaedee\">\n",
              "    <div class=\"colab-df-container\">\n",
              "      <div>\n",
              "<style scoped>\n",
              "    .dataframe tbody tr th:only-of-type {\n",
              "        vertical-align: middle;\n",
              "    }\n",
              "\n",
              "    .dataframe tbody tr th {\n",
              "        vertical-align: top;\n",
              "    }\n",
              "\n",
              "    .dataframe thead th {\n",
              "        text-align: right;\n",
              "    }\n",
              "</style>\n",
              "<table border=\"1\" class=\"dataframe\">\n",
              "  <thead>\n",
              "    <tr style=\"text-align: right;\">\n",
              "      <th></th>\n",
              "      <th>0</th>\n",
              "      <th>1</th>\n",
              "      <th>2</th>\n",
              "      <th>3</th>\n",
              "    </tr>\n",
              "  </thead>\n",
              "  <tbody>\n",
              "    <tr>\n",
              "      <th>52703</th>\n",
              "      <td>0.095988</td>\n",
              "      <td>0.096787</td>\n",
              "      <td>0.095770</td>\n",
              "      <td>0.095988</td>\n",
              "    </tr>\n",
              "    <tr>\n",
              "      <th>52704</th>\n",
              "      <td>0.095988</td>\n",
              "      <td>0.098532</td>\n",
              "      <td>0.095624</td>\n",
              "      <td>0.098169</td>\n",
              "    </tr>\n",
              "    <tr>\n",
              "      <th>52705</th>\n",
              "      <td>0.098241</td>\n",
              "      <td>0.098314</td>\n",
              "      <td>0.095333</td>\n",
              "      <td>0.095624</td>\n",
              "    </tr>\n",
              "    <tr>\n",
              "      <th>52706</th>\n",
              "      <td>0.095261</td>\n",
              "      <td>0.098459</td>\n",
              "      <td>0.095043</td>\n",
              "      <td>0.097660</td>\n",
              "    </tr>\n",
              "    <tr>\n",
              "      <th>52707</th>\n",
              "      <td>0.097732</td>\n",
              "      <td>0.099259</td>\n",
              "      <td>0.094752</td>\n",
              "      <td>0.098023</td>\n",
              "    </tr>\n",
              "    <tr>\n",
              "      <th>...</th>\n",
              "      <td>...</td>\n",
              "      <td>...</td>\n",
              "      <td>...</td>\n",
              "      <td>...</td>\n",
              "    </tr>\n",
              "    <tr>\n",
              "      <th>94785</th>\n",
              "      <td>0.503156</td>\n",
              "      <td>0.503156</td>\n",
              "      <td>0.503156</td>\n",
              "      <td>0.503156</td>\n",
              "    </tr>\n",
              "    <tr>\n",
              "      <th>94786</th>\n",
              "      <td>0.503156</td>\n",
              "      <td>0.503156</td>\n",
              "      <td>0.503156</td>\n",
              "      <td>0.503156</td>\n",
              "    </tr>\n",
              "    <tr>\n",
              "      <th>94787</th>\n",
              "      <td>0.503156</td>\n",
              "      <td>0.503156</td>\n",
              "      <td>0.503156</td>\n",
              "      <td>0.503156</td>\n",
              "    </tr>\n",
              "    <tr>\n",
              "      <th>94788</th>\n",
              "      <td>0.503156</td>\n",
              "      <td>0.503156</td>\n",
              "      <td>0.503156</td>\n",
              "      <td>0.503156</td>\n",
              "    </tr>\n",
              "    <tr>\n",
              "      <th>94789</th>\n",
              "      <td>0.503156</td>\n",
              "      <td>0.503156</td>\n",
              "      <td>0.503156</td>\n",
              "      <td>0.503156</td>\n",
              "    </tr>\n",
              "  </tbody>\n",
              "</table>\n",
              "<p>42087 rows × 4 columns</p>\n",
              "</div>\n",
              "      <button class=\"colab-df-convert\" onclick=\"convertToInteractive('df-04336866-408a-4d56-80ec-85321fbaedee')\"\n",
              "              title=\"Convert this dataframe to an interactive table.\"\n",
              "              style=\"display:none;\">\n",
              "        \n",
              "  <svg xmlns=\"http://www.w3.org/2000/svg\" height=\"24px\"viewBox=\"0 0 24 24\"\n",
              "       width=\"24px\">\n",
              "    <path d=\"M0 0h24v24H0V0z\" fill=\"none\"/>\n",
              "    <path d=\"M18.56 5.44l.94 2.06.94-2.06 2.06-.94-2.06-.94-.94-2.06-.94 2.06-2.06.94zm-11 1L8.5 8.5l.94-2.06 2.06-.94-2.06-.94L8.5 2.5l-.94 2.06-2.06.94zm10 10l.94 2.06.94-2.06 2.06-.94-2.06-.94-.94-2.06-.94 2.06-2.06.94z\"/><path d=\"M17.41 7.96l-1.37-1.37c-.4-.4-.92-.59-1.43-.59-.52 0-1.04.2-1.43.59L10.3 9.45l-7.72 7.72c-.78.78-.78 2.05 0 2.83L4 21.41c.39.39.9.59 1.41.59.51 0 1.02-.2 1.41-.59l7.78-7.78 2.81-2.81c.8-.78.8-2.07 0-2.86zM5.41 20L4 18.59l7.72-7.72 1.47 1.35L5.41 20z\"/>\n",
              "  </svg>\n",
              "      </button>\n",
              "      \n",
              "  <style>\n",
              "    .colab-df-container {\n",
              "      display:flex;\n",
              "      flex-wrap:wrap;\n",
              "      gap: 12px;\n",
              "    }\n",
              "\n",
              "    .colab-df-convert {\n",
              "      background-color: #E8F0FE;\n",
              "      border: none;\n",
              "      border-radius: 50%;\n",
              "      cursor: pointer;\n",
              "      display: none;\n",
              "      fill: #1967D2;\n",
              "      height: 32px;\n",
              "      padding: 0 0 0 0;\n",
              "      width: 32px;\n",
              "    }\n",
              "\n",
              "    .colab-df-convert:hover {\n",
              "      background-color: #E2EBFA;\n",
              "      box-shadow: 0px 1px 2px rgba(60, 64, 67, 0.3), 0px 1px 3px 1px rgba(60, 64, 67, 0.15);\n",
              "      fill: #174EA6;\n",
              "    }\n",
              "\n",
              "    [theme=dark] .colab-df-convert {\n",
              "      background-color: #3B4455;\n",
              "      fill: #D2E3FC;\n",
              "    }\n",
              "\n",
              "    [theme=dark] .colab-df-convert:hover {\n",
              "      background-color: #434B5C;\n",
              "      box-shadow: 0px 1px 3px 1px rgba(0, 0, 0, 0.15);\n",
              "      filter: drop-shadow(0px 1px 2px rgba(0, 0, 0, 0.3));\n",
              "      fill: #FFFFFF;\n",
              "    }\n",
              "  </style>\n",
              "\n",
              "      <script>\n",
              "        const buttonEl =\n",
              "          document.querySelector('#df-04336866-408a-4d56-80ec-85321fbaedee button.colab-df-convert');\n",
              "        buttonEl.style.display =\n",
              "          google.colab.kernel.accessAllowed ? 'block' : 'none';\n",
              "\n",
              "        async function convertToInteractive(key) {\n",
              "          const element = document.querySelector('#df-04336866-408a-4d56-80ec-85321fbaedee');\n",
              "          const dataTable =\n",
              "            await google.colab.kernel.invokeFunction('convertToInteractive',\n",
              "                                                     [key], {});\n",
              "          if (!dataTable) return;\n",
              "\n",
              "          const docLinkHtml = 'Like what you see? Visit the ' +\n",
              "            '<a target=\"_blank\" href=https://colab.research.google.com/notebooks/data_table.ipynb>data table notebook</a>'\n",
              "            + ' to learn more about interactive tables.';\n",
              "          element.innerHTML = '';\n",
              "          dataTable['output_type'] = 'display_data';\n",
              "          await google.colab.output.renderOutput(dataTable, element);\n",
              "          const docLink = document.createElement('div');\n",
              "          docLink.innerHTML = docLinkHtml;\n",
              "          element.appendChild(docLink);\n",
              "        }\n",
              "      </script>\n",
              "    </div>\n",
              "  </div>\n",
              "  "
            ]
          },
          "metadata": {},
          "execution_count": 28
        }
      ],
      "source": [
        "Train_std_15"
      ]
    },
    {
      "cell_type": "code",
      "execution_count": null,
      "metadata": {
        "id": "rGY1n9b3RVKl"
      },
      "outputs": [],
      "source": [
        "Train_MinMax_15 = Train_std_15 * (Train_Max_15 - Train_Min_15) + H_MEAN_15\n",
        "\n",
        "Train_MinMax_30 = Train_std_30 * (Train_Max_30 - Train_Min_30) + H_MEAN_30\n",
        "\n",
        "Train_MinMax_1 = Train_std_1 * (Train_Max_1 - Train_Min_1) + H_MEAN_1"
      ]
    },
    {
      "cell_type": "code",
      "execution_count": null,
      "metadata": {
        "id": "SpXqoNtJPF4q",
        "colab": {
          "base_uri": "https://localhost:8080/"
        },
        "outputId": "5eee8b10-23ec-4479-91b1-1d2cbbe21014"
      },
      "outputs": [
        {
          "output_type": "stream",
          "name": "stdout",
          "text": [
            "              0         1         2         3\n",
            "47     0.313179  0.313179  0.313179  0.313179\n",
            "48     0.313179  0.313179  0.313179  0.313179\n",
            "49     0.313179  0.313179  0.313179  0.313179\n",
            "50     0.313179  0.313179  0.313179  0.313179\n",
            "51     0.313179  0.313179  0.313179  0.313179\n",
            "...         ...       ...       ...       ...\n",
            "42129 -0.222297 -0.219015 -0.225735 -0.222766\n",
            "42130 -0.222609 -0.217348 -0.224120 -0.217712\n",
            "42131 -0.217765 -0.213805 -0.221099 -0.220942\n",
            "42132 -0.220890 -0.212295 -0.221307 -0.213910\n",
            "42133 -0.213857 -0.211305 -0.218390 -0.218077\n",
            "\n",
            "[42087 rows x 4 columns]\n",
            "----------------------------------------------------------------------------------------------------------------\n",
            "              0         1         2         3\n",
            "42134 -0.218077 -0.217712 -0.223182 -0.223026\n",
            "42135 -0.223026 -0.221619 -0.223755 -0.223391\n",
            "42136 -0.223443 -0.219119 -0.223443 -0.219327\n",
            "42137 -0.219275 -0.214951 -0.222401 -0.216827\n",
            "42138 -0.216827 -0.216150 -0.218963 -0.217973\n",
            "...         ...       ...       ...       ...\n",
            "52651  0.431225  0.432684  0.427526  0.429714\n",
            "52652  0.429662  0.429662  0.425911  0.426797\n",
            "52653  0.426797  0.428516  0.423411  0.428256\n",
            "52654  0.428256  0.430027  0.422890  0.423254\n",
            "52655  0.423150  0.426849  0.423150  0.426172\n",
            "\n",
            "[10522 rows x 4 columns]\n",
            "----------------------------------------------------------------------------------------------------------------\n"
          ]
        }
      ],
      "source": [
        "print(Train_std_30)\n",
        "print('----------------------------------------------------------------------------------------------------------------')\n",
        "print(Test_std_30)\n",
        "print('----------------------------------------------------------------------------------------------------------------')"
      ]
    },
    {
      "cell_type": "code",
      "execution_count": null,
      "metadata": {
        "id": "7Z2bXUWSPKsS",
        "colab": {
          "base_uri": "https://localhost:8080/",
          "height": 423
        },
        "outputId": "75c922dd-008a-4a71-9345-478094626944"
      },
      "outputs": [
        {
          "output_type": "execute_result",
          "data": {
            "text/plain": [
              "              0         1         2         3\n",
              "42134 -0.218077 -0.217712 -0.223182 -0.223026\n",
              "42135 -0.223026 -0.221619 -0.223755 -0.223391\n",
              "42136 -0.223443 -0.219119 -0.223443 -0.219327\n",
              "42137 -0.219275 -0.214951 -0.222401 -0.216827\n",
              "42138 -0.216827 -0.216150 -0.218963 -0.217973\n",
              "...         ...       ...       ...       ...\n",
              "52651  0.431225  0.432684  0.427526  0.429714\n",
              "52652  0.429662  0.429662  0.425911  0.426797\n",
              "52653  0.426797  0.428516  0.423411  0.428256\n",
              "52654  0.428256  0.430027  0.422890  0.423254\n",
              "52655  0.423150  0.426849  0.423150  0.426172\n",
              "\n",
              "[10522 rows x 4 columns]"
            ],
            "text/html": [
              "\n",
              "  <div id=\"df-b4b0a31b-71c1-4e10-8b52-6b89a66dd65e\">\n",
              "    <div class=\"colab-df-container\">\n",
              "      <div>\n",
              "<style scoped>\n",
              "    .dataframe tbody tr th:only-of-type {\n",
              "        vertical-align: middle;\n",
              "    }\n",
              "\n",
              "    .dataframe tbody tr th {\n",
              "        vertical-align: top;\n",
              "    }\n",
              "\n",
              "    .dataframe thead th {\n",
              "        text-align: right;\n",
              "    }\n",
              "</style>\n",
              "<table border=\"1\" class=\"dataframe\">\n",
              "  <thead>\n",
              "    <tr style=\"text-align: right;\">\n",
              "      <th></th>\n",
              "      <th>0</th>\n",
              "      <th>1</th>\n",
              "      <th>2</th>\n",
              "      <th>3</th>\n",
              "    </tr>\n",
              "  </thead>\n",
              "  <tbody>\n",
              "    <tr>\n",
              "      <th>42134</th>\n",
              "      <td>-0.218077</td>\n",
              "      <td>-0.217712</td>\n",
              "      <td>-0.223182</td>\n",
              "      <td>-0.223026</td>\n",
              "    </tr>\n",
              "    <tr>\n",
              "      <th>42135</th>\n",
              "      <td>-0.223026</td>\n",
              "      <td>-0.221619</td>\n",
              "      <td>-0.223755</td>\n",
              "      <td>-0.223391</td>\n",
              "    </tr>\n",
              "    <tr>\n",
              "      <th>42136</th>\n",
              "      <td>-0.223443</td>\n",
              "      <td>-0.219119</td>\n",
              "      <td>-0.223443</td>\n",
              "      <td>-0.219327</td>\n",
              "    </tr>\n",
              "    <tr>\n",
              "      <th>42137</th>\n",
              "      <td>-0.219275</td>\n",
              "      <td>-0.214951</td>\n",
              "      <td>-0.222401</td>\n",
              "      <td>-0.216827</td>\n",
              "    </tr>\n",
              "    <tr>\n",
              "      <th>42138</th>\n",
              "      <td>-0.216827</td>\n",
              "      <td>-0.216150</td>\n",
              "      <td>-0.218963</td>\n",
              "      <td>-0.217973</td>\n",
              "    </tr>\n",
              "    <tr>\n",
              "      <th>...</th>\n",
              "      <td>...</td>\n",
              "      <td>...</td>\n",
              "      <td>...</td>\n",
              "      <td>...</td>\n",
              "    </tr>\n",
              "    <tr>\n",
              "      <th>52651</th>\n",
              "      <td>0.431225</td>\n",
              "      <td>0.432684</td>\n",
              "      <td>0.427526</td>\n",
              "      <td>0.429714</td>\n",
              "    </tr>\n",
              "    <tr>\n",
              "      <th>52652</th>\n",
              "      <td>0.429662</td>\n",
              "      <td>0.429662</td>\n",
              "      <td>0.425911</td>\n",
              "      <td>0.426797</td>\n",
              "    </tr>\n",
              "    <tr>\n",
              "      <th>52653</th>\n",
              "      <td>0.426797</td>\n",
              "      <td>0.428516</td>\n",
              "      <td>0.423411</td>\n",
              "      <td>0.428256</td>\n",
              "    </tr>\n",
              "    <tr>\n",
              "      <th>52654</th>\n",
              "      <td>0.428256</td>\n",
              "      <td>0.430027</td>\n",
              "      <td>0.422890</td>\n",
              "      <td>0.423254</td>\n",
              "    </tr>\n",
              "    <tr>\n",
              "      <th>52655</th>\n",
              "      <td>0.423150</td>\n",
              "      <td>0.426849</td>\n",
              "      <td>0.423150</td>\n",
              "      <td>0.426172</td>\n",
              "    </tr>\n",
              "  </tbody>\n",
              "</table>\n",
              "<p>10522 rows × 4 columns</p>\n",
              "</div>\n",
              "      <button class=\"colab-df-convert\" onclick=\"convertToInteractive('df-b4b0a31b-71c1-4e10-8b52-6b89a66dd65e')\"\n",
              "              title=\"Convert this dataframe to an interactive table.\"\n",
              "              style=\"display:none;\">\n",
              "        \n",
              "  <svg xmlns=\"http://www.w3.org/2000/svg\" height=\"24px\"viewBox=\"0 0 24 24\"\n",
              "       width=\"24px\">\n",
              "    <path d=\"M0 0h24v24H0V0z\" fill=\"none\"/>\n",
              "    <path d=\"M18.56 5.44l.94 2.06.94-2.06 2.06-.94-2.06-.94-.94-2.06-.94 2.06-2.06.94zm-11 1L8.5 8.5l.94-2.06 2.06-.94-2.06-.94L8.5 2.5l-.94 2.06-2.06.94zm10 10l.94 2.06.94-2.06 2.06-.94-2.06-.94-.94-2.06-.94 2.06-2.06.94z\"/><path d=\"M17.41 7.96l-1.37-1.37c-.4-.4-.92-.59-1.43-.59-.52 0-1.04.2-1.43.59L10.3 9.45l-7.72 7.72c-.78.78-.78 2.05 0 2.83L4 21.41c.39.39.9.59 1.41.59.51 0 1.02-.2 1.41-.59l7.78-7.78 2.81-2.81c.8-.78.8-2.07 0-2.86zM5.41 20L4 18.59l7.72-7.72 1.47 1.35L5.41 20z\"/>\n",
              "  </svg>\n",
              "      </button>\n",
              "      \n",
              "  <style>\n",
              "    .colab-df-container {\n",
              "      display:flex;\n",
              "      flex-wrap:wrap;\n",
              "      gap: 12px;\n",
              "    }\n",
              "\n",
              "    .colab-df-convert {\n",
              "      background-color: #E8F0FE;\n",
              "      border: none;\n",
              "      border-radius: 50%;\n",
              "      cursor: pointer;\n",
              "      display: none;\n",
              "      fill: #1967D2;\n",
              "      height: 32px;\n",
              "      padding: 0 0 0 0;\n",
              "      width: 32px;\n",
              "    }\n",
              "\n",
              "    .colab-df-convert:hover {\n",
              "      background-color: #E2EBFA;\n",
              "      box-shadow: 0px 1px 2px rgba(60, 64, 67, 0.3), 0px 1px 3px 1px rgba(60, 64, 67, 0.15);\n",
              "      fill: #174EA6;\n",
              "    }\n",
              "\n",
              "    [theme=dark] .colab-df-convert {\n",
              "      background-color: #3B4455;\n",
              "      fill: #D2E3FC;\n",
              "    }\n",
              "\n",
              "    [theme=dark] .colab-df-convert:hover {\n",
              "      background-color: #434B5C;\n",
              "      box-shadow: 0px 1px 3px 1px rgba(0, 0, 0, 0.15);\n",
              "      filter: drop-shadow(0px 1px 2px rgba(0, 0, 0, 0.3));\n",
              "      fill: #FFFFFF;\n",
              "    }\n",
              "  </style>\n",
              "\n",
              "      <script>\n",
              "        const buttonEl =\n",
              "          document.querySelector('#df-b4b0a31b-71c1-4e10-8b52-6b89a66dd65e button.colab-df-convert');\n",
              "        buttonEl.style.display =\n",
              "          google.colab.kernel.accessAllowed ? 'block' : 'none';\n",
              "\n",
              "        async function convertToInteractive(key) {\n",
              "          const element = document.querySelector('#df-b4b0a31b-71c1-4e10-8b52-6b89a66dd65e');\n",
              "          const dataTable =\n",
              "            await google.colab.kernel.invokeFunction('convertToInteractive',\n",
              "                                                     [key], {});\n",
              "          if (!dataTable) return;\n",
              "\n",
              "          const docLinkHtml = 'Like what you see? Visit the ' +\n",
              "            '<a target=\"_blank\" href=https://colab.research.google.com/notebooks/data_table.ipynb>data table notebook</a>'\n",
              "            + ' to learn more about interactive tables.';\n",
              "          element.innerHTML = '';\n",
              "          dataTable['output_type'] = 'display_data';\n",
              "          await google.colab.output.renderOutput(dataTable, element);\n",
              "          const docLink = document.createElement('div');\n",
              "          docLink.innerHTML = docLinkHtml;\n",
              "          element.appendChild(docLink);\n",
              "        }\n",
              "      </script>\n",
              "    </div>\n",
              "  </div>\n",
              "  "
            ]
          },
          "metadata": {},
          "execution_count": 31
        }
      ],
      "source": [
        "Test_std_30"
      ]
    },
    {
      "cell_type": "markdown",
      "metadata": {
        "id": "1GU9Vid0St1G"
      },
      "source": [
        "# **3 D data**"
      ]
    },
    {
      "cell_type": "code",
      "execution_count": null,
      "metadata": {
        "id": "_7VcM3cyRVKm"
      },
      "outputs": [],
      "source": [
        "def create_dataset(dataset, time_step):\n",
        "    dataX, dataY = [], []\n",
        "    for i in range(len(dataset)-time_step):\n",
        "        a = dataset[i:(i+time_step), :]\n",
        "        dataX.append(a)\n",
        "        dataY.append(dataset[i+time_step, :])\n",
        "    return np.array(dataX), np.array(dataY)"
      ]
    },
    {
      "cell_type": "code",
      "execution_count": null,
      "metadata": {
        "id": "gzZqo8ukRVKn"
      },
      "outputs": [],
      "source": [
        "Train_std_15 = np.array(Train_std_15)\n",
        "Test_std_15 = np.array(Test_std_15)\n",
        "\n",
        "Train_std_30 = np.array(Train_std_30)\n",
        "Test_std_30 = np.array(Test_std_30)\n",
        "\n",
        "Train_std_1 = np.array(Train_std_1)\n",
        "Test_std_1 = np.array(Test_std_1)"
      ]
    },
    {
      "cell_type": "code",
      "execution_count": null,
      "metadata": {
        "id": "qpoPbDQ9RVKn"
      },
      "outputs": [],
      "source": [
        "xtrain_15, ytrain_15 = create_dataset(Train_std_15, WIND)\n",
        "xtrain_30, ytrain_30 = create_dataset(Train_std_30, WIND)\n",
        "xtrain_1, ytrain_1 = create_dataset(Train_std_1, WIND)"
      ]
    },
    {
      "cell_type": "code",
      "source": [
        "xtrain_15.shape"
      ],
      "metadata": {
        "colab": {
          "base_uri": "https://localhost:8080/"
        },
        "id": "UGNOh7C1PZSJ",
        "outputId": "58af5c51-09cf-4c57-e2e5-b6005a4dc306"
      },
      "execution_count": null,
      "outputs": [
        {
          "output_type": "execute_result",
          "data": {
            "text/plain": [
              "(42017, 70, 4)"
            ]
          },
          "metadata": {},
          "execution_count": 40
        }
      ]
    },
    {
      "cell_type": "code",
      "execution_count": null,
      "metadata": {
        "id": "4YYzpyb0RVKo"
      },
      "outputs": [],
      "source": [
        "xtest_15, ytest_15 = create_dataset(Test_std_15, WIND)\n",
        "xtest_30, ytest_30 = create_dataset(Test_std_30, WIND)\n",
        "xtest_1, ytest_1 = create_dataset(Test_std_1, WIND)"
      ]
    },
    {
      "cell_type": "code",
      "execution_count": null,
      "metadata": {
        "id": "YSbYMYZiwFuP"
      },
      "outputs": [],
      "source": [
        "#xtrain_15 = tf.random.shuffle(xtrain_15, seed=None, name=None)"
      ]
    },
    {
      "cell_type": "code",
      "execution_count": null,
      "metadata": {
        "id": "1aC5dXGYwFsI"
      },
      "outputs": [],
      "source": [
        "def tf_shuffle_axis(value, axis=0, seed=None, name=None):\n",
        "    perm = list(range(tf.rank(value)))\n",
        "    perm[axis], perm[0] = perm[0], perm[axis]\n",
        "    value = tf.random.shuffle(tf.transpose(value, perm=perm))\n",
        "    value = tf.transpose(value, perm=perm)\n",
        "    return value"
      ]
    },
    {
      "cell_type": "code",
      "execution_count": null,
      "metadata": {
        "id": "zf1sKFvfwFpm"
      },
      "outputs": [],
      "source": [
        "#xtrain_15 = tf_shuffle_axis(xtrain_15, axis=0, seed=None, name=None)"
      ]
    },
    {
      "cell_type": "code",
      "execution_count": null,
      "metadata": {
        "id": "r25ge881wFmw"
      },
      "outputs": [],
      "source": [
        "#xtrain_30 = tf_shuffle_axis(xtrain_30, axis=0, seed=None, name=None)\n",
        "#xtrain_1 = tf_shuffle_axis(xtrain_1, axis=0, seed=None, name=None)"
      ]
    },
    {
      "cell_type": "code",
      "execution_count": null,
      "metadata": {
        "id": "WnCSieB2RVKo"
      },
      "outputs": [],
      "source": [
        "xtest_15 = xtest_15[:450]\n",
        "ytest_15 = ytest_15[:450]\n",
        "\n",
        "xtest_30 = xtest_30[:450]\n",
        "ytest_30 = ytest_30[:450]\n",
        "\n",
        "xtest_1 = xtest_1[:450]\n",
        "ytest_1 = ytest_1[:450]"
      ]
    },
    {
      "cell_type": "code",
      "source": [
        "xtrain_15.shape"
      ],
      "metadata": {
        "colab": {
          "base_uri": "https://localhost:8080/"
        },
        "id": "GQpaSS-DPed_",
        "outputId": "e765f868-b38a-4167-dd83-020309af06d4"
      },
      "execution_count": null,
      "outputs": [
        {
          "output_type": "execute_result",
          "data": {
            "text/plain": [
              "(42017, 70, 4)"
            ]
          },
          "metadata": {},
          "execution_count": 47
        }
      ]
    },
    {
      "cell_type": "markdown",
      "metadata": {
        "id": "nTP5iddpS1Qk"
      },
      "source": [
        "# **swish activation function**"
      ]
    },
    {
      "cell_type": "code",
      "execution_count": null,
      "metadata": {
        "id": "pGJl8MGtRVKp"
      },
      "outputs": [],
      "source": [
        "#def swish(x, beta = 1):\n",
        "#   return (x * sigmoid(beta * x))\n",
        "#from keras.utils.generic_utils import get_custom_objects\n",
        "#from keras.layers import Activation\n",
        "#get_custom_objects().update({'swish': Activation(swish)})"
      ]
    },
    {
      "cell_type": "markdown",
      "metadata": {
        "id": "hJywzOAbSxhN"
      },
      "source": [
        "# **FLF loss function**"
      ]
    },
    {
      "cell_type": "code",
      "execution_count": null,
      "metadata": {
        "id": "WXHZ-6LIRVKq"
      },
      "outputs": [],
      "source": [
        "def FLF(yTrue, yPred):\n",
        "\n",
        "  lam = 0.1\n",
        "  v   = Lambda(lambda x: x*0.9)((yTrue-yPred))\n",
        "  vn  = Lambda(lambda x: x*lam)(K.abs((yTrue[:,1]+yTrue[:,2])/2 - (yPred[:,1]+yPred[:,2])/2))\n",
        "  vn1 = Lambda(lambda x: x*lam)(K.abs((yTrue[:,0]+yTrue[:,3])/2 - (yPred[:,0]+yPred[:,3])/2))\n",
        "  vx  = K.square((v[:,0]-vn1))\n",
        "  vy  = K.square((v[:,1]-vn))\n",
        "  vz  = K.square((v[:,2]-vn))\n",
        "  v4  = K.square((v[:,3]-vn1))\n",
        "  vm  = K.concatenate([vx, vy, vz, v4])\n",
        "  vmx = K.mean(vm)\n",
        "  return vmx"
      ]
    },
    {
      "cell_type": "code",
      "execution_count": null,
      "metadata": {
        "id": "TpTg8sRrCzGc"
      },
      "outputs": [],
      "source": []
    },
    {
      "cell_type": "code",
      "execution_count": null,
      "metadata": {
        "id": "fXmef1WAl7Ho",
        "colab": {
          "base_uri": "https://localhost:8080/"
        },
        "outputId": "722df086-87a5-4df5-a0af-93a636dc0629"
      },
      "outputs": [
        {
          "output_type": "stream",
          "name": "stdout",
          "text": [
            "(42017, 70, 4)\n",
            "(42017, 70, 4)\n",
            "(42017, 70, 4)\n",
            "(42017, 4)\n",
            "(42017, 4)\n",
            "(42017, 4)\n"
          ]
        }
      ],
      "source": [
        "print(xtrain_15.shape)\n",
        "\n",
        "print(xtrain_30.shape)\n",
        "\n",
        "print(xtrain_1.shape)\n",
        "\n",
        "print(ytrain_15.shape)\n",
        "\n",
        "print(ytrain_30.shape)\n",
        "\n",
        "print(ytrain_1.shape)"
      ]
    },
    {
      "cell_type": "markdown",
      "metadata": {
        "id": "IqaNgy6fS7_S"
      },
      "source": [
        "# **Validation Set**"
      ]
    },
    {
      "cell_type": "code",
      "execution_count": null,
      "metadata": {
        "id": "89RlU9loRVKq"
      },
      "outputs": [],
      "source": [
        "X = xtrain_15[37814:,:,:]\n",
        "Y = ytrain_15[37814:,:]\n",
        "\n",
        "X1 = xtrain_30[37814:,:,:]\n",
        "Y1 = ytrain_30[37814:,:]\n",
        "\n",
        "X2 = xtrain_1[37814:,:,:]\n",
        "Y2 = ytrain_1[37814:,:]"
      ]
    },
    {
      "cell_type": "code",
      "source": [
        "X.shape"
      ],
      "metadata": {
        "colab": {
          "base_uri": "https://localhost:8080/"
        },
        "id": "VbIGhfbB3LiV",
        "outputId": "5fa218b7-f661-4d8d-d621-aead5199352a"
      },
      "execution_count": null,
      "outputs": [
        {
          "output_type": "execute_result",
          "data": {
            "text/plain": [
              "(4203, 70, 4)"
            ]
          },
          "metadata": {},
          "execution_count": 52
        }
      ]
    },
    {
      "cell_type": "code",
      "source": [
        "# Define the shape of input tensors\n",
        "input_shape_15 = xtrain_15.shape[1:]\n",
        "input_shape_30 = xtrain_30.shape[1:]\n",
        "input_shape_1 = xtrain_1.shape[1:]"
      ],
      "metadata": {
        "id": "4JKdCCuCmblK"
      },
      "execution_count": null,
      "outputs": []
    },
    {
      "cell_type": "code",
      "source": [
        "from keras.layers import Input, Conv1D, Flatten, concatenate, Dense\n",
        "from keras.models import Model\n",
        "from keras.optimizers import Nadam"
      ],
      "metadata": {
        "id": "XSmAc2Rnn4N0"
      },
      "execution_count": null,
      "outputs": []
    },
    {
      "cell_type": "markdown",
      "metadata": {
        "id": "afPX04IXS-09"
      },
      "source": [
        "# **Neural Network**"
      ]
    },
    {
      "cell_type": "code",
      "execution_count": null,
      "metadata": {
        "id": "LeNrQSTwfa9J"
      },
      "outputs": [],
      "source": [
        "inp1 = Input(shape=input_shape_15)\n",
        "inp2 = Input(shape=input_shape_30)\n",
        "inp3 = Input(shape=input_shape_1)\n",
        "\n",
        "x = Conv1D(256, 2, activation='tanh',padding='same')(inp1)\n",
        "x = Conv1D(128, 2, activation='tanh',padding= 'same')(x)\n",
        "x = Flatten()(x)\n",
        "\n",
        "\n",
        "y = Conv1D(256, 2,activation='tanh',padding='same')(inp2)\n",
        "y = Conv1D(128, 2, activation='tanh',padding= 'same')(y)\n",
        "y = Flatten()(y)\n",
        "\n",
        "\n",
        "g = Conv1D(256, 2, activation='tanh',padding='same')(inp3)\n",
        "g = Conv1D(128, 2, activation='tanh',padding= 'same')(g)\n",
        "g = Flatten()(g)\n",
        "\n"
      ]
    },
    {
      "cell_type": "code",
      "source": [],
      "metadata": {
        "id": "VOg7acsROiZ3"
      },
      "execution_count": null,
      "outputs": []
    },
    {
      "cell_type": "code",
      "source": [],
      "metadata": {
        "id": "HwbIV_hJOiUv"
      },
      "execution_count": null,
      "outputs": []
    },
    {
      "cell_type": "code",
      "execution_count": null,
      "metadata": {
        "id": "OoKmP05oiI1M"
      },
      "outputs": [],
      "source": [
        "w = concatenate([x, y, g])\n",
        "out_cnn =  Dense(4, activation='linear')(w)\n",
        "\n",
        "\n",
        "\n",
        "model_cnn = keras.Model(inputs=[inp1, inp2, inp3], outputs=out_cnn)"
      ]
    },
    {
      "cell_type": "code",
      "execution_count": null,
      "metadata": {
        "id": "cMB7Qg_EiIyf",
        "colab": {
          "base_uri": "https://localhost:8080/"
        },
        "outputId": "01a90dea-e2b9-44db-b8d2-bc5ecd5bd324"
      },
      "outputs": [
        {
          "output_type": "stream",
          "name": "stdout",
          "text": [
            "Model: \"model\"\n",
            "__________________________________________________________________________________________________\n",
            " Layer (type)                   Output Shape         Param #     Connected to                     \n",
            "==================================================================================================\n",
            " input_1 (InputLayer)           [(None, 70, 4)]      0           []                               \n",
            "                                                                                                  \n",
            " input_2 (InputLayer)           [(None, 70, 4)]      0           []                               \n",
            "                                                                                                  \n",
            " input_3 (InputLayer)           [(None, 70, 4)]      0           []                               \n",
            "                                                                                                  \n",
            " conv1d (Conv1D)                (None, 70, 256)      2304        ['input_1[0][0]']                \n",
            "                                                                                                  \n",
            " conv1d_2 (Conv1D)              (None, 70, 256)      2304        ['input_2[0][0]']                \n",
            "                                                                                                  \n",
            " conv1d_4 (Conv1D)              (None, 70, 256)      2304        ['input_3[0][0]']                \n",
            "                                                                                                  \n",
            " conv1d_1 (Conv1D)              (None, 70, 128)      65664       ['conv1d[0][0]']                 \n",
            "                                                                                                  \n",
            " conv1d_3 (Conv1D)              (None, 70, 128)      65664       ['conv1d_2[0][0]']               \n",
            "                                                                                                  \n",
            " conv1d_5 (Conv1D)              (None, 70, 128)      65664       ['conv1d_4[0][0]']               \n",
            "                                                                                                  \n",
            " flatten (Flatten)              (None, 8960)         0           ['conv1d_1[0][0]']               \n",
            "                                                                                                  \n",
            " flatten_1 (Flatten)            (None, 8960)         0           ['conv1d_3[0][0]']               \n",
            "                                                                                                  \n",
            " flatten_2 (Flatten)            (None, 8960)         0           ['conv1d_5[0][0]']               \n",
            "                                                                                                  \n",
            " concatenate (Concatenate)      (None, 26880)        0           ['flatten[0][0]',                \n",
            "                                                                  'flatten_1[0][0]',              \n",
            "                                                                  'flatten_2[0][0]']              \n",
            "                                                                                                  \n",
            " dense (Dense)                  (None, 4)            107524      ['concatenate[0][0]']            \n",
            "                                                                                                  \n",
            "==================================================================================================\n",
            "Total params: 311,428\n",
            "Trainable params: 311,428\n",
            "Non-trainable params: 0\n",
            "__________________________________________________________________________________________________\n",
            "None\n"
          ]
        }
      ],
      "source": [
        "print(model_cnn.summary())"
      ]
    },
    {
      "cell_type": "code",
      "execution_count": null,
      "metadata": {
        "id": "cS46JivZIwc7"
      },
      "outputs": [],
      "source": [
        "model_cnn.compile(loss=FLF, optimizer = Nadam(learning_rate=0.00001, beta_1=0.8, beta_2=0.099, epsilon=None, schedule_decay=0.0004))"
      ]
    },
    {
      "cell_type": "code",
      "execution_count": null,
      "metadata": {
        "id": "7IuHrLzOIwYE",
        "colab": {
          "base_uri": "https://localhost:8080/"
        },
        "outputId": "ffa7f20c-b242-4954-ba32-8b2afda81aff"
      },
      "outputs": [
        {
          "output_type": "stream",
          "name": "stdout",
          "text": [
            "Epoch 1/100\n",
            "1051/1051 [==============================] - 19s 8ms/step - loss: 0.0030 - val_loss: 0.0011\n",
            "Epoch 2/100\n",
            "1051/1051 [==============================] - 7s 6ms/step - loss: 4.0475e-04 - val_loss: 0.0010\n",
            "Epoch 3/100\n",
            "1051/1051 [==============================] - 7s 7ms/step - loss: 2.2120e-04 - val_loss: 8.6119e-04\n",
            "Epoch 4/100\n",
            "1051/1051 [==============================] - 7s 7ms/step - loss: 2.1843e-04 - val_loss: 7.7373e-04\n",
            "Epoch 5/100\n",
            "1051/1051 [==============================] - 9s 9ms/step - loss: 1.7845e-04 - val_loss: 5.1618e-04\n",
            "Epoch 6/100\n",
            "1051/1051 [==============================] - 7s 7ms/step - loss: 6.8441e-05 - val_loss: 2.9510e-04\n",
            "Epoch 7/100\n",
            "1051/1051 [==============================] - 7s 6ms/step - loss: 2.7146e-05 - val_loss: 1.6041e-04\n",
            "Epoch 8/100\n",
            "1051/1051 [==============================] - 8s 7ms/step - loss: 1.9784e-05 - val_loss: 1.1123e-04\n",
            "Epoch 9/100\n",
            "1051/1051 [==============================] - 7s 6ms/step - loss: 1.5286e-05 - val_loss: 5.4000e-05\n",
            "Epoch 10/100\n",
            "1051/1051 [==============================] - 7s 7ms/step - loss: 1.3392e-05 - val_loss: 4.5898e-05\n",
            "Epoch 11/100\n",
            "1051/1051 [==============================] - 7s 6ms/step - loss: 1.3343e-05 - val_loss: 4.5120e-05\n",
            "Epoch 12/100\n",
            "1051/1051 [==============================] - 7s 7ms/step - loss: 1.2043e-05 - val_loss: 4.4023e-05\n",
            "Epoch 13/100\n",
            "1051/1051 [==============================] - 7s 6ms/step - loss: 1.1713e-05 - val_loss: 4.8172e-05\n",
            "Epoch 14/100\n",
            "1051/1051 [==============================] - 7s 7ms/step - loss: 1.1237e-05 - val_loss: 4.6952e-05\n",
            "Epoch 15/100\n",
            "1051/1051 [==============================] - 7s 7ms/step - loss: 1.0213e-05 - val_loss: 4.7113e-05\n",
            "Epoch 16/100\n",
            "1051/1051 [==============================] - 7s 7ms/step - loss: 9.8034e-06 - val_loss: 3.7583e-05\n",
            "Epoch 17/100\n",
            "1051/1051 [==============================] - 7s 7ms/step - loss: 8.7807e-06 - val_loss: 3.1446e-05\n",
            "Epoch 18/100\n",
            "1051/1051 [==============================] - 7s 7ms/step - loss: 8.2120e-06 - val_loss: 4.3856e-05\n",
            "Epoch 19/100\n",
            "1051/1051 [==============================] - 7s 7ms/step - loss: 7.8547e-06 - val_loss: 2.9468e-05\n",
            "Epoch 20/100\n",
            "1051/1051 [==============================] - 7s 6ms/step - loss: 7.6604e-06 - val_loss: 3.5950e-05\n",
            "Epoch 21/100\n",
            "1051/1051 [==============================] - 7s 7ms/step - loss: 7.3542e-06 - val_loss: 2.5641e-05\n",
            "Epoch 22/100\n",
            "1051/1051 [==============================] - 7s 6ms/step - loss: 7.2517e-06 - val_loss: 3.8221e-05\n",
            "Epoch 23/100\n",
            "1051/1051 [==============================] - 8s 7ms/step - loss: 8.5930e-06 - val_loss: 5.3603e-05\n",
            "Epoch 24/100\n",
            "1051/1051 [==============================] - 7s 6ms/step - loss: 7.1718e-06 - val_loss: 3.1265e-05\n",
            "Epoch 25/100\n",
            "1051/1051 [==============================] - 8s 7ms/step - loss: 7.3712e-06 - val_loss: 4.5107e-05\n",
            "Epoch 26/100\n",
            "1051/1051 [==============================] - 7s 6ms/step - loss: 9.1357e-06 - val_loss: 5.6218e-05\n",
            "Epoch 27/100\n",
            "1051/1051 [==============================] - 8s 7ms/step - loss: 7.4426e-06 - val_loss: 4.9175e-05\n",
            "Epoch 28/100\n",
            "1051/1051 [==============================] - 7s 6ms/step - loss: 7.1078e-06 - val_loss: 3.8280e-05\n",
            "Epoch 29/100\n",
            "1051/1051 [==============================] - 8s 7ms/step - loss: 6.9713e-06 - val_loss: 3.9481e-05\n",
            "Epoch 30/100\n",
            "1051/1051 [==============================] - 7s 7ms/step - loss: 6.6811e-06 - val_loss: 3.3459e-05\n",
            "Epoch 31/100\n",
            "1051/1051 [==============================] - 7s 7ms/step - loss: 6.8018e-06 - val_loss: 3.8625e-05\n",
            "Epoch 32/100\n",
            "1051/1051 [==============================] - 7s 7ms/step - loss: 6.4855e-06 - val_loss: 3.3235e-05\n",
            "Epoch 33/100\n",
            "1051/1051 [==============================] - 7s 7ms/step - loss: 6.0269e-06 - val_loss: 3.3452e-05\n",
            "Epoch 34/100\n",
            "1051/1051 [==============================] - 7s 7ms/step - loss: 5.7855e-06 - val_loss: 3.3291e-05\n",
            "Epoch 35/100\n",
            "1051/1051 [==============================] - 7s 6ms/step - loss: 6.2833e-06 - val_loss: 3.4699e-05\n",
            "Epoch 36/100\n",
            "1051/1051 [==============================] - 7s 7ms/step - loss: 6.0225e-06 - val_loss: 3.2893e-05\n",
            "Epoch 37/100\n",
            "1051/1051 [==============================] - 7s 6ms/step - loss: 5.6992e-06 - val_loss: 2.7414e-05\n",
            "Epoch 38/100\n",
            "1051/1051 [==============================] - 7s 7ms/step - loss: 5.7734e-06 - val_loss: 2.3063e-05\n",
            "Epoch 39/100\n",
            "1051/1051 [==============================] - 7s 6ms/step - loss: 5.7064e-06 - val_loss: 2.1333e-05\n",
            "Epoch 40/100\n",
            "1051/1051 [==============================] - 7s 7ms/step - loss: 5.5585e-06 - val_loss: 2.4101e-05\n",
            "Epoch 41/100\n",
            "1051/1051 [==============================] - 7s 6ms/step - loss: 5.7413e-06 - val_loss: 2.6700e-05\n",
            "Epoch 42/100\n",
            "1051/1051 [==============================] - 8s 7ms/step - loss: 5.8501e-06 - val_loss: 2.4072e-05\n",
            "Epoch 43/100\n",
            "1051/1051 [==============================] - 7s 6ms/step - loss: 5.8932e-06 - val_loss: 3.1728e-05\n",
            "Epoch 44/100\n",
            "1051/1051 [==============================] - 7s 7ms/step - loss: 5.6929e-06 - val_loss: 2.3049e-05\n",
            "Epoch 45/100\n",
            "1051/1051 [==============================] - 7s 7ms/step - loss: 5.5502e-06 - val_loss: 2.5673e-05\n",
            "Epoch 46/100\n",
            "1051/1051 [==============================] - 7s 7ms/step - loss: 5.6256e-06 - val_loss: 2.5620e-05\n",
            "Epoch 47/100\n",
            "1051/1051 [==============================] - 7s 7ms/step - loss: 5.7572e-06 - val_loss: 2.3272e-05\n",
            "Epoch 48/100\n",
            "1051/1051 [==============================] - 7s 7ms/step - loss: 5.7329e-06 - val_loss: 2.3740e-05\n",
            "Epoch 49/100\n",
            "1051/1051 [==============================] - 8s 7ms/step - loss: 5.5558e-06 - val_loss: 2.1208e-05\n",
            "Epoch 50/100\n",
            "1051/1051 [==============================] - 7s 6ms/step - loss: 5.7254e-06 - val_loss: 3.0409e-05\n",
            "Epoch 51/100\n",
            "1051/1051 [==============================] - 7s 7ms/step - loss: 6.0713e-06 - val_loss: 2.5865e-05\n",
            "Epoch 52/100\n",
            "1051/1051 [==============================] - 7s 6ms/step - loss: 5.7983e-06 - val_loss: 1.9916e-05\n",
            "Epoch 53/100\n",
            "1051/1051 [==============================] - 7s 7ms/step - loss: 5.6362e-06 - val_loss: 2.0436e-05\n",
            "Epoch 54/100\n",
            "1051/1051 [==============================] - 7s 6ms/step - loss: 5.6092e-06 - val_loss: 1.9072e-05\n",
            "Epoch 55/100\n",
            "1051/1051 [==============================] - 7s 7ms/step - loss: 6.1043e-06 - val_loss: 2.2602e-05\n",
            "Epoch 56/100\n",
            "1051/1051 [==============================] - 7s 6ms/step - loss: 5.6468e-06 - val_loss: 2.0958e-05\n",
            "Epoch 57/100\n",
            "1051/1051 [==============================] - 8s 7ms/step - loss: 5.6055e-06 - val_loss: 1.8260e-05\n",
            "Epoch 58/100\n",
            "1051/1051 [==============================] - 7s 6ms/step - loss: 5.6403e-06 - val_loss: 2.3776e-05\n",
            "Epoch 59/100\n",
            "1051/1051 [==============================] - 8s 7ms/step - loss: 5.6927e-06 - val_loss: 2.0069e-05\n",
            "Epoch 60/100\n",
            "1051/1051 [==============================] - 7s 7ms/step - loss: 5.6539e-06 - val_loss: 2.0635e-05\n",
            "Epoch 61/100\n",
            "1051/1051 [==============================] - 7s 7ms/step - loss: 5.8607e-06 - val_loss: 2.0483e-05\n",
            "Epoch 62/100\n",
            "1051/1051 [==============================] - 8s 7ms/step - loss: 5.8804e-06 - val_loss: 1.9344e-05\n",
            "Epoch 63/100\n",
            "1051/1051 [==============================] - 7s 7ms/step - loss: 5.6126e-06 - val_loss: 1.8310e-05\n",
            "Epoch 64/100\n",
            "1051/1051 [==============================] - 8s 7ms/step - loss: 5.5746e-06 - val_loss: 1.7041e-05\n",
            "Epoch 65/100\n",
            "1051/1051 [==============================] - 7s 6ms/step - loss: 5.7608e-06 - val_loss: 1.5711e-05\n",
            "Epoch 66/100\n",
            "1051/1051 [==============================] - 8s 7ms/step - loss: 5.4538e-06 - val_loss: 1.5339e-05\n",
            "Epoch 67/100\n",
            "1051/1051 [==============================] - 7s 6ms/step - loss: 5.7736e-06 - val_loss: 1.5013e-05\n",
            "Epoch 68/100\n",
            "1051/1051 [==============================] - 7s 7ms/step - loss: 5.4552e-06 - val_loss: 1.5071e-05\n",
            "Epoch 69/100\n",
            "1051/1051 [==============================] - 7s 6ms/step - loss: 5.3702e-06 - val_loss: 1.5708e-05\n",
            "Epoch 70/100\n",
            "1051/1051 [==============================] - 7s 7ms/step - loss: 5.4000e-06 - val_loss: 1.5298e-05\n",
            "Epoch 71/100\n",
            "1051/1051 [==============================] - 7s 6ms/step - loss: 5.4665e-06 - val_loss: 1.7509e-05\n",
            "Epoch 72/100\n",
            "1051/1051 [==============================] - 7s 7ms/step - loss: 5.6314e-06 - val_loss: 1.6288e-05\n",
            "Epoch 73/100\n",
            "1051/1051 [==============================] - 7s 6ms/step - loss: 5.4898e-06 - val_loss: 1.6550e-05\n",
            "Epoch 74/100\n",
            "1051/1051 [==============================] - 7s 7ms/step - loss: 5.4918e-06 - val_loss: 1.6633e-05\n",
            "Epoch 75/100\n",
            "1051/1051 [==============================] - 7s 7ms/step - loss: 5.7233e-06 - val_loss: 1.7248e-05\n",
            "Epoch 76/100\n",
            "1051/1051 [==============================] - 7s 7ms/step - loss: 5.8969e-06 - val_loss: 1.9334e-05\n",
            "Epoch 77/100\n",
            "1051/1051 [==============================] - 7s 7ms/step - loss: 6.1740e-06 - val_loss: 1.7076e-05\n",
            "Epoch 78/100\n",
            "1051/1051 [==============================] - 7s 7ms/step - loss: 5.8121e-06 - val_loss: 1.6333e-05\n",
            "Epoch 79/100\n",
            "1051/1051 [==============================] - 8s 7ms/step - loss: 6.2324e-06 - val_loss: 1.7253e-05\n",
            "Epoch 80/100\n",
            "1051/1051 [==============================] - 7s 6ms/step - loss: 5.7522e-06 - val_loss: 1.6759e-05\n",
            "Epoch 81/100\n",
            "1051/1051 [==============================] - 7s 7ms/step - loss: 6.0468e-06 - val_loss: 1.6569e-05\n",
            "Epoch 82/100\n",
            "1051/1051 [==============================] - 7s 6ms/step - loss: 5.8164e-06 - val_loss: 1.5091e-05\n",
            "Epoch 83/100\n",
            "1051/1051 [==============================] - 8s 7ms/step - loss: 6.3086e-06 - val_loss: 1.5860e-05\n",
            "Epoch 84/100\n",
            "1051/1051 [==============================] - 7s 6ms/step - loss: 5.8270e-06 - val_loss: 1.5570e-05\n",
            "Epoch 85/100\n",
            "1051/1051 [==============================] - 8s 7ms/step - loss: 5.5366e-06 - val_loss: 1.4518e-05\n",
            "Epoch 86/100\n",
            "1051/1051 [==============================] - 7s 6ms/step - loss: 5.2986e-06 - val_loss: 1.4031e-05\n",
            "Epoch 87/100\n",
            "1051/1051 [==============================] - 7s 7ms/step - loss: 5.3768e-06 - val_loss: 1.4980e-05\n",
            "Epoch 88/100\n",
            "1051/1051 [==============================] - 7s 7ms/step - loss: 5.5473e-06 - val_loss: 1.5347e-05\n",
            "Epoch 89/100\n",
            "1051/1051 [==============================] - 7s 7ms/step - loss: 5.3388e-06 - val_loss: 1.3575e-05\n",
            "Epoch 90/100\n",
            "1051/1051 [==============================] - 8s 7ms/step - loss: 5.2448e-06 - val_loss: 1.5391e-05\n",
            "Epoch 91/100\n",
            "1051/1051 [==============================] - 7s 7ms/step - loss: 5.1053e-06 - val_loss: 1.3438e-05\n",
            "Epoch 92/100\n",
            "1051/1051 [==============================] - 8s 7ms/step - loss: 5.1211e-06 - val_loss: 1.3546e-05\n",
            "Epoch 93/100\n",
            "1051/1051 [==============================] - 7s 6ms/step - loss: 5.0717e-06 - val_loss: 1.4530e-05\n",
            "Epoch 94/100\n",
            "1051/1051 [==============================] - 8s 7ms/step - loss: 5.0126e-06 - val_loss: 1.3068e-05\n",
            "Epoch 95/100\n",
            "1051/1051 [==============================] - 7s 6ms/step - loss: 5.0550e-06 - val_loss: 1.3338e-05\n",
            "Epoch 96/100\n",
            "1051/1051 [==============================] - 8s 7ms/step - loss: 4.9664e-06 - val_loss: 1.3372e-05\n",
            "Epoch 97/100\n",
            "1051/1051 [==============================] - 7s 6ms/step - loss: 5.0585e-06 - val_loss: 1.3759e-05\n",
            "Epoch 98/100\n",
            "1051/1051 [==============================] - 8s 7ms/step - loss: 5.0686e-06 - val_loss: 1.3417e-05\n",
            "Epoch 99/100\n",
            "1051/1051 [==============================] - 7s 6ms/step - loss: 5.3623e-06 - val_loss: 1.3383e-05\n",
            "Epoch 100/100\n",
            "1051/1051 [==============================] - 8s 7ms/step - loss: 5.3017e-06 - val_loss: 1.3588e-05\n",
            "Epoch: 1\n",
            "Training Loss: 0.0029948228038847446\n",
            "Validation Loss: 0.0010708163026720285\n",
            "------------------------------\n",
            "Epoch: 2\n",
            "Training Loss: 0.0004047471738886088\n",
            "Validation Loss: 0.0010205671424046159\n",
            "------------------------------\n",
            "Epoch: 3\n",
            "Training Loss: 0.00022119843924883753\n",
            "Validation Loss: 0.0008611914236098528\n",
            "------------------------------\n",
            "Epoch: 4\n",
            "Training Loss: 0.00021843108697794378\n",
            "Validation Loss: 0.0007737271953374147\n",
            "------------------------------\n",
            "Epoch: 5\n",
            "Training Loss: 0.0001784461783245206\n",
            "Validation Loss: 0.0005161768640391529\n",
            "------------------------------\n",
            "Epoch: 6\n",
            "Training Loss: 6.844127346994355e-05\n",
            "Validation Loss: 0.00029509523301385343\n",
            "------------------------------\n",
            "Epoch: 7\n",
            "Training Loss: 2.7145772037329152e-05\n",
            "Validation Loss: 0.00016040931222960353\n",
            "------------------------------\n",
            "Epoch: 8\n",
            "Training Loss: 1.978356158360839e-05\n",
            "Validation Loss: 0.00011122812429675832\n",
            "------------------------------\n",
            "Epoch: 9\n",
            "Training Loss: 1.5286368579836562e-05\n",
            "Validation Loss: 5.39998036401812e-05\n",
            "------------------------------\n",
            "Epoch: 10\n",
            "Training Loss: 1.3392254913924262e-05\n",
            "Validation Loss: 4.5897748350398615e-05\n",
            "------------------------------\n",
            "Epoch: 11\n",
            "Training Loss: 1.3343257705855649e-05\n",
            "Validation Loss: 4.511979568633251e-05\n",
            "------------------------------\n",
            "Epoch: 12\n",
            "Training Loss: 1.2043073184031527e-05\n",
            "Validation Loss: 4.402260310598649e-05\n",
            "------------------------------\n",
            "Epoch: 13\n",
            "Training Loss: 1.1713300409610383e-05\n",
            "Validation Loss: 4.8172234528465196e-05\n",
            "------------------------------\n",
            "Epoch: 14\n",
            "Training Loss: 1.1237374565098435e-05\n",
            "Validation Loss: 4.695219831774011e-05\n",
            "------------------------------\n",
            "Epoch: 15\n",
            "Training Loss: 1.0213197128905449e-05\n",
            "Validation Loss: 4.7112862375797704e-05\n",
            "------------------------------\n",
            "Epoch: 16\n",
            "Training Loss: 9.803422472032253e-06\n",
            "Validation Loss: 3.758282764465548e-05\n",
            "------------------------------\n",
            "Epoch: 17\n",
            "Training Loss: 8.780662938079331e-06\n",
            "Validation Loss: 3.1445801141671836e-05\n",
            "------------------------------\n",
            "Epoch: 18\n",
            "Training Loss: 8.211964996007737e-06\n",
            "Validation Loss: 4.385603097034618e-05\n",
            "------------------------------\n",
            "Epoch: 19\n",
            "Training Loss: 7.854732757550664e-06\n",
            "Validation Loss: 2.946790846181102e-05\n",
            "------------------------------\n",
            "Epoch: 20\n",
            "Training Loss: 7.660397386644036e-06\n",
            "Validation Loss: 3.5950273741036654e-05\n",
            "------------------------------\n",
            "Epoch: 21\n",
            "Training Loss: 7.3541868914617226e-06\n",
            "Validation Loss: 2.5641007596277632e-05\n",
            "------------------------------\n",
            "Epoch: 22\n",
            "Training Loss: 7.251657734741457e-06\n",
            "Validation Loss: 3.822136568487622e-05\n",
            "------------------------------\n",
            "Epoch: 23\n",
            "Training Loss: 8.59300052979961e-06\n",
            "Validation Loss: 5.360347495297901e-05\n",
            "------------------------------\n",
            "Epoch: 24\n",
            "Training Loss: 7.171824563556584e-06\n",
            "Validation Loss: 3.1265386496670544e-05\n",
            "------------------------------\n",
            "Epoch: 25\n",
            "Training Loss: 7.3712135417736135e-06\n",
            "Validation Loss: 4.5107128244126216e-05\n",
            "------------------------------\n",
            "Epoch: 26\n",
            "Training Loss: 9.135698746831622e-06\n",
            "Validation Loss: 5.6218370446003973e-05\n",
            "------------------------------\n",
            "Epoch: 27\n",
            "Training Loss: 7.4425806815270334e-06\n",
            "Validation Loss: 4.917496698908508e-05\n",
            "------------------------------\n",
            "Epoch: 28\n",
            "Training Loss: 7.107790224836208e-06\n",
            "Validation Loss: 3.8279726140899584e-05\n",
            "------------------------------\n",
            "Epoch: 29\n",
            "Training Loss: 6.971343736950075e-06\n",
            "Validation Loss: 3.948094672523439e-05\n",
            "------------------------------\n",
            "Epoch: 30\n",
            "Training Loss: 6.681143986497773e-06\n",
            "Validation Loss: 3.345873119542375e-05\n",
            "------------------------------\n",
            "Epoch: 31\n",
            "Training Loss: 6.801815288781654e-06\n",
            "Validation Loss: 3.862473022309132e-05\n",
            "------------------------------\n",
            "Epoch: 32\n",
            "Training Loss: 6.4855298660404515e-06\n",
            "Validation Loss: 3.323520650155842e-05\n",
            "------------------------------\n",
            "Epoch: 33\n",
            "Training Loss: 6.026908067724435e-06\n",
            "Validation Loss: 3.345188815728761e-05\n",
            "------------------------------\n",
            "Epoch: 34\n",
            "Training Loss: 5.785547273262637e-06\n",
            "Validation Loss: 3.329117316752672e-05\n",
            "------------------------------\n",
            "Epoch: 35\n",
            "Training Loss: 6.283290076680714e-06\n",
            "Validation Loss: 3.4699045500019565e-05\n",
            "------------------------------\n",
            "Epoch: 36\n",
            "Training Loss: 6.022536126693012e-06\n",
            "Validation Loss: 3.2893218303797767e-05\n",
            "------------------------------\n",
            "Epoch: 37\n",
            "Training Loss: 5.69923849980114e-06\n",
            "Validation Loss: 2.7414267606218345e-05\n",
            "------------------------------\n",
            "Epoch: 38\n",
            "Training Loss: 5.773400516773108e-06\n",
            "Validation Loss: 2.3062699256115593e-05\n",
            "------------------------------\n",
            "Epoch: 39\n",
            "Training Loss: 5.706385309167672e-06\n",
            "Validation Loss: 2.133315138053149e-05\n",
            "------------------------------\n",
            "Epoch: 40\n",
            "Training Loss: 5.558514203585219e-06\n",
            "Validation Loss: 2.410105662420392e-05\n",
            "------------------------------\n",
            "Epoch: 41\n",
            "Training Loss: 5.741300356021384e-06\n",
            "Validation Loss: 2.670027970452793e-05\n",
            "------------------------------\n",
            "Epoch: 42\n",
            "Training Loss: 5.850123216077918e-06\n",
            "Validation Loss: 2.407240572210867e-05\n",
            "------------------------------\n",
            "Epoch: 43\n",
            "Training Loss: 5.8931750572810415e-06\n",
            "Validation Loss: 3.172764991177246e-05\n",
            "------------------------------\n",
            "Epoch: 44\n",
            "Training Loss: 5.6929452512122225e-06\n",
            "Validation Loss: 2.3049120500218123e-05\n",
            "------------------------------\n",
            "Epoch: 45\n",
            "Training Loss: 5.550157766265329e-06\n",
            "Validation Loss: 2.5672672563814558e-05\n",
            "------------------------------\n",
            "Epoch: 46\n",
            "Training Loss: 5.625610810966464e-06\n",
            "Validation Loss: 2.5620012820581906e-05\n",
            "------------------------------\n",
            "Epoch: 47\n",
            "Training Loss: 5.757200597145129e-06\n",
            "Validation Loss: 2.3272255930351093e-05\n",
            "------------------------------\n",
            "Epoch: 48\n",
            "Training Loss: 5.732909357902827e-06\n",
            "Validation Loss: 2.3739830794511363e-05\n",
            "------------------------------\n",
            "Epoch: 49\n",
            "Training Loss: 5.555791631195461e-06\n",
            "Validation Loss: 2.120785939041525e-05\n",
            "------------------------------\n",
            "Epoch: 50\n",
            "Training Loss: 5.725394657929428e-06\n",
            "Validation Loss: 3.040881347260438e-05\n",
            "------------------------------\n",
            "Epoch: 51\n",
            "Training Loss: 6.07130505159148e-06\n",
            "Validation Loss: 2.5865463612717576e-05\n",
            "------------------------------\n",
            "Epoch: 52\n",
            "Training Loss: 5.798311121907318e-06\n",
            "Validation Loss: 1.9916244127671234e-05\n",
            "------------------------------\n",
            "Epoch: 53\n",
            "Training Loss: 5.636194600810995e-06\n",
            "Validation Loss: 2.043638232862577e-05\n",
            "------------------------------\n",
            "Epoch: 54\n",
            "Training Loss: 5.609211257251445e-06\n",
            "Validation Loss: 1.907168552861549e-05\n",
            "------------------------------\n",
            "Epoch: 55\n",
            "Training Loss: 6.104306976340013e-06\n",
            "Validation Loss: 2.2601680029765703e-05\n",
            "------------------------------\n",
            "Epoch: 56\n",
            "Training Loss: 5.646802492265124e-06\n",
            "Validation Loss: 2.0957941160304472e-05\n",
            "------------------------------\n",
            "Epoch: 57\n",
            "Training Loss: 5.605546448350651e-06\n",
            "Validation Loss: 1.825965773605276e-05\n",
            "------------------------------\n",
            "Epoch: 58\n",
            "Training Loss: 5.640329618472606e-06\n",
            "Validation Loss: 2.3776126909069717e-05\n",
            "------------------------------\n",
            "Epoch: 59\n",
            "Training Loss: 5.692703780368902e-06\n",
            "Validation Loss: 2.0069042875547893e-05\n",
            "------------------------------\n",
            "Epoch: 60\n",
            "Training Loss: 5.653892003465444e-06\n",
            "Validation Loss: 2.0635363398469053e-05\n",
            "------------------------------\n",
            "Epoch: 61\n",
            "Training Loss: 5.860737473994959e-06\n",
            "Validation Loss: 2.04828247660771e-05\n",
            "------------------------------\n",
            "Epoch: 62\n",
            "Training Loss: 5.880428034288343e-06\n",
            "Validation Loss: 1.9344368411111645e-05\n",
            "------------------------------\n",
            "Epoch: 63\n",
            "Training Loss: 5.612550921796355e-06\n",
            "Validation Loss: 1.8310011000721715e-05\n",
            "------------------------------\n",
            "Epoch: 64\n",
            "Training Loss: 5.574630449700635e-06\n",
            "Validation Loss: 1.7040594684658572e-05\n",
            "------------------------------\n",
            "Epoch: 65\n",
            "Training Loss: 5.760824024036992e-06\n",
            "Validation Loss: 1.571147186041344e-05\n",
            "------------------------------\n",
            "Epoch: 66\n",
            "Training Loss: 5.453801804833347e-06\n",
            "Validation Loss: 1.533890826976858e-05\n",
            "------------------------------\n",
            "Epoch: 67\n",
            "Training Loss: 5.773630164185306e-06\n",
            "Validation Loss: 1.5013151823950466e-05\n",
            "------------------------------\n",
            "Epoch: 68\n",
            "Training Loss: 5.4552137953578494e-06\n",
            "Validation Loss: 1.5071000234456733e-05\n",
            "------------------------------\n",
            "Epoch: 69\n",
            "Training Loss: 5.370203325583134e-06\n",
            "Validation Loss: 1.5707651982665993e-05\n",
            "------------------------------\n",
            "Epoch: 70\n",
            "Training Loss: 5.3999920055503026e-06\n",
            "Validation Loss: 1.5297931895474903e-05\n",
            "------------------------------\n",
            "Epoch: 71\n",
            "Training Loss: 5.46650517208036e-06\n",
            "Validation Loss: 1.750872252159752e-05\n",
            "------------------------------\n",
            "Epoch: 72\n",
            "Training Loss: 5.631434760289267e-06\n",
            "Validation Loss: 1.62875403475482e-05\n",
            "------------------------------\n",
            "Epoch: 73\n",
            "Training Loss: 5.489766408572905e-06\n",
            "Validation Loss: 1.655006781220436e-05\n",
            "------------------------------\n",
            "Epoch: 74\n",
            "Training Loss: 5.491804586199578e-06\n",
            "Validation Loss: 1.663313014432788e-05\n",
            "------------------------------\n",
            "Epoch: 75\n",
            "Training Loss: 5.723295998905087e-06\n",
            "Validation Loss: 1.7247617506654933e-05\n",
            "------------------------------\n",
            "Epoch: 76\n",
            "Training Loss: 5.8968521443603095e-06\n",
            "Validation Loss: 1.9333589079906233e-05\n",
            "------------------------------\n",
            "Epoch: 77\n",
            "Training Loss: 6.1739519878756255e-06\n",
            "Validation Loss: 1.7075744835892692e-05\n",
            "------------------------------\n",
            "Epoch: 78\n",
            "Training Loss: 5.812062227050774e-06\n",
            "Validation Loss: 1.6333486200892366e-05\n",
            "------------------------------\n",
            "Epoch: 79\n",
            "Training Loss: 6.2324497775989585e-06\n",
            "Validation Loss: 1.725259789964184e-05\n",
            "------------------------------\n",
            "Epoch: 80\n",
            "Training Loss: 5.752156994276447e-06\n",
            "Validation Loss: 1.6758642232161947e-05\n",
            "------------------------------\n",
            "Epoch: 81\n",
            "Training Loss: 6.046845101081999e-06\n",
            "Validation Loss: 1.656936001381837e-05\n",
            "------------------------------\n",
            "Epoch: 82\n",
            "Training Loss: 5.816391421831213e-06\n",
            "Validation Loss: 1.5091454770299606e-05\n",
            "------------------------------\n",
            "Epoch: 83\n",
            "Training Loss: 6.3086026784731075e-06\n",
            "Validation Loss: 1.5860106941545382e-05\n",
            "------------------------------\n",
            "Epoch: 84\n",
            "Training Loss: 5.826980213896604e-06\n",
            "Validation Loss: 1.5570154573651962e-05\n",
            "------------------------------\n",
            "Epoch: 85\n",
            "Training Loss: 5.536632215807913e-06\n",
            "Validation Loss: 1.451810840080725e-05\n",
            "------------------------------\n",
            "Epoch: 86\n",
            "Training Loss: 5.298621999827446e-06\n",
            "Validation Loss: 1.4030816601007245e-05\n",
            "------------------------------\n",
            "Epoch: 87\n",
            "Training Loss: 5.376795343181584e-06\n",
            "Validation Loss: 1.4979798834247049e-05\n",
            "------------------------------\n",
            "Epoch: 88\n",
            "Training Loss: 5.547331056732219e-06\n",
            "Validation Loss: 1.5346748114097863e-05\n",
            "------------------------------\n",
            "Epoch: 89\n",
            "Training Loss: 5.338786650099792e-06\n",
            "Validation Loss: 1.3575425327871926e-05\n",
            "------------------------------\n",
            "Epoch: 90\n",
            "Training Loss: 5.244792191660963e-06\n",
            "Validation Loss: 1.5391460692626424e-05\n",
            "------------------------------\n",
            "Epoch: 91\n",
            "Training Loss: 5.1052847993560135e-06\n",
            "Validation Loss: 1.3438460882753134e-05\n",
            "------------------------------\n",
            "Epoch: 92\n",
            "Training Loss: 5.121090907778125e-06\n",
            "Validation Loss: 1.3545630281441845e-05\n",
            "------------------------------\n",
            "Epoch: 93\n",
            "Training Loss: 5.07172308061854e-06\n",
            "Validation Loss: 1.4529546206176747e-05\n",
            "------------------------------\n",
            "Epoch: 94\n",
            "Training Loss: 5.012620022171177e-06\n",
            "Validation Loss: 1.3067786312603857e-05\n",
            "------------------------------\n",
            "Epoch: 95\n",
            "Training Loss: 5.0549533625599e-06\n",
            "Validation Loss: 1.3337940799829084e-05\n",
            "------------------------------\n",
            "Epoch: 96\n",
            "Training Loss: 4.96635993840755e-06\n",
            "Validation Loss: 1.3372397006605752e-05\n",
            "------------------------------\n",
            "Epoch: 97\n",
            "Training Loss: 5.058484020992182e-06\n",
            "Validation Loss: 1.3758965906163212e-05\n",
            "------------------------------\n",
            "Epoch: 98\n",
            "Training Loss: 5.068579412181862e-06\n",
            "Validation Loss: 1.341683673672378e-05\n",
            "------------------------------\n",
            "Epoch: 99\n",
            "Training Loss: 5.362275260267779e-06\n",
            "Validation Loss: 1.3383471014094539e-05\n",
            "------------------------------\n",
            "Epoch: 100\n",
            "Training Loss: 5.301653345668456e-06\n",
            "Validation Loss: 1.358756435365649e-05\n",
            "------------------------------\n",
            "Total time: 745.1100921630859 seconds\n"
          ]
        }
      ],
      "source": [
        "import time\n",
        "\n",
        "start = time.time()\n",
        "history_cnn = model_cnn.fit([xtrain_15, xtrain_30, xtrain_1], ytrain_30, epochs=100, validation_data=([X,X1,X2],Y1), batch_size=BATCH, verbose=1, shuffle=False)\n",
        "\n",
        "train_loss = history_cnn.history['loss']\n",
        "val_loss = history_cnn.history['val_loss']\n",
        "\n",
        "for epoch in range(len(train_loss)):\n",
        "    print(\"Epoch:\", epoch + 1)\n",
        "    print(\"Training Loss:\", train_loss[epoch])\n",
        "    print(\"Validation Loss:\", val_loss[epoch])\n",
        "    print(\"------------------------------\")\n",
        "\n",
        "print(\"Total time:\", time.time() - start, \"seconds\")\n"
      ]
    },
    {
      "cell_type": "code",
      "source": [
        "import matplotlib.pyplot as plt\n",
        "\n",
        "history = history_cnn.history  # Assuming `history_cnn` contains the training history\n",
        "train_loss_values = history['loss']\n",
        "val_loss_values = history['val_loss']\n",
        "\n",
        "\n",
        "plt.plot(train_loss_values, label='Training Loss', linewidth=1.5)\n",
        "plt.plot(val_loss_values, label='Validation Loss', linewidth=1.5)\n",
        "plt.xlabel('Epochs')\n",
        "plt.ylabel('Loss')\n",
        "plt.title('Training and Validation Loss')\n",
        "plt.legend()\n",
        "plt.show()\n"
      ],
      "metadata": {
        "id": "kleTKoY_AQji",
        "colab": {
          "base_uri": "https://localhost:8080/",
          "height": 508
        },
        "outputId": "7341b3f8-5489-4989-ac38-1dfa43d52962"
      },
      "execution_count": null,
      "outputs": [
        {
          "output_type": "display_data",
          "data": {
            "text/plain": [
              "<Figure size 640x480 with 1 Axes>"
            ],
            "image/png": "[encoded data removed]"
          },
          "metadata": {}
        }
      ]
    },
    {
      "cell_type": "code",
      "execution_count": null,
      "metadata": {
        "id": "thr7fcPm3Uns",
        "colab": {
          "base_uri": "https://localhost:8080/"
        },
        "outputId": "c72931de-7b15-4f87-82e3-e7319f413b4c"
      },
      "outputs": [
        {
          "output_type": "stream",
          "name": "stdout",
          "text": [
            "15/15 [==============================] - 0s 8ms/step\n"
          ]
        }
      ],
      "source": [
        "test_pred_cnn= model_cnn.predict([xtest_15,xtest_30,xtest_1])\n"
      ]
    },
    {
      "cell_type": "code",
      "source": [
        "test_pred_cnn = model_cnn.predict([xtest_15, xtest_30, xtest_1])"
      ],
      "metadata": {
        "colab": {
          "base_uri": "https://localhost:8080/"
        },
        "id": "y5Leu0tU1ec9",
        "outputId": "d8827bf9-f5cd-47b6-ab1f-b55ba6d8232a"
      },
      "execution_count": null,
      "outputs": [
        {
          "output_type": "stream",
          "name": "stdout",
          "text": [
            "15/15 [==============================] - 0s 2ms/step\n"
          ]
        }
      ]
    },
    {
      "cell_type": "code",
      "source": [
        "test_pred_cnn.shape"
      ],
      "metadata": {
        "id": "NlJAXkZy9v3W",
        "colab": {
          "base_uri": "https://localhost:8080/"
        },
        "outputId": "b3065950-b85c-4170-c679-814564e11f35"
      },
      "execution_count": null,
      "outputs": [
        {
          "output_type": "execute_result",
          "data": {
            "text/plain": [
              "(450, 4)"
            ]
          },
          "metadata": {},
          "execution_count": 63
        }
      ]
    },
    {
      "cell_type": "code",
      "execution_count": null,
      "metadata": {
        "id": "QMnuxI-GRVKr",
        "colab": {
          "base_uri": "https://localhost:8080/"
        },
        "outputId": "1b61637f-9c99-4f28-b74e-273fc9c0431f"
      },
      "outputs": [
        {
          "output_type": "stream",
          "name": "stdout",
          "text": [
            "15/15 [==============================] - 0s 3ms/step - loss: 1.1012e-05\n",
            "1.1011690730811097e-05\n"
          ]
        }
      ],
      "source": [
        "accuracy_cnn=model_cnn.evaluate([xtest_15,xtest_30,xtest_1], ytest_30)\n",
        "print(accuracy_cnn)\n"
      ]
    },
    {
      "cell_type": "code",
      "source": [
        "\n"
      ],
      "metadata": {
        "id": "70TKy6b00gBE"
      },
      "execution_count": null,
      "outputs": []
    },
    {
      "cell_type": "code",
      "execution_count": null,
      "metadata": {
        "id": "l8H9d8rYRVKv"
      },
      "outputs": [],
      "source": [
        "ytest_rescale = ytest_30 * (Train_Max_30 - Train_Min_30) + H_MEAN_30"
      ]
    },
    {
      "cell_type": "code",
      "execution_count": null,
      "metadata": {
        "id": "LXy7j9RdRVKv"
      },
      "outputs": [],
      "source": [
        "Test_Pred_cnn = test_pred_cnn * (Train_Max_30 - Train_Min_30) + H_MEAN_30"
      ]
    },
    {
      "cell_type": "code",
      "execution_count": null,
      "metadata": {
        "id": "YKdlS8vJRVKx",
        "colab": {
          "base_uri": "https://localhost:8080/"
        },
        "outputId": "e7689aa4-98e4-40c7-c399-175647acc72d"
      },
      "outputs": [
        {
          "output_type": "stream",
          "name": "stdout",
          "text": [
            "(52609, 4)\n",
            "(52609, 4)\n",
            "(52609, 4)\n",
            "(450, 4)\n",
            "(450, 4)\n"
          ]
        }
      ],
      "source": [
        "print(df_M_15.shape)\n",
        "print(df_M_30.shape)\n",
        "print(ytest_30.shape)\n",
        "print(Test_Pred_cnn.shape)"
      ]
    },
    {
      "cell_type": "code",
      "execution_count": null,
      "metadata": {
        "id": "OGHaB4Tsejv9",
        "colab": {
          "base_uri": "https://localhost:8080/",
          "height": 487
        },
        "outputId": "d118975c-1612-443f-e3a3-8e1331aa2401"
      },
      "outputs": [
        {
          "output_type": "execute_result",
          "data": {
            "text/plain": [
              "             0        1        2        3\n",
              "0      1.09787  1.09794  1.09689  1.09692\n",
              "1      1.09692  1.09719  1.09678  1.09685\n",
              "2      1.09684  1.09767  1.09684  1.09763\n",
              "3      1.09764  1.09847  1.09704  1.09811\n",
              "4      1.09811  1.09824  1.09770  1.09789\n",
              "...        ...      ...      ...      ...\n",
              "10517  1.22251  1.22279  1.22180  1.22222\n",
              "10518  1.22221  1.22221  1.22149  1.22166\n",
              "10519  1.22166  1.22199  1.22101  1.22194\n",
              "10520  1.22194  1.22228  1.22091  1.22098\n",
              "10521  1.22096  1.22167  1.22096  1.22154\n",
              "\n",
              "[10522 rows x 4 columns]"
            ],
            "text/html": [
              "\n",
              "  <div id=\"df-1f5ba63e-f66e-4e41-bf72-5d2d01cc0c99\">\n",
              "    <div class=\"colab-df-container\">\n",
              "      <div>\n",
              "<style scoped>\n",
              "    .dataframe tbody tr th:only-of-type {\n",
              "        vertical-align: middle;\n",
              "    }\n",
              "\n",
              "    .dataframe tbody tr th {\n",
              "        vertical-align: top;\n",
              "    }\n",
              "\n",
              "    .dataframe thead th {\n",
              "        text-align: right;\n",
              "    }\n",
              "</style>\n",
              "<table border=\"1\" class=\"dataframe\">\n",
              "  <thead>\n",
              "    <tr style=\"text-align: right;\">\n",
              "      <th></th>\n",
              "      <th>0</th>\n",
              "      <th>1</th>\n",
              "      <th>2</th>\n",
              "      <th>3</th>\n",
              "    </tr>\n",
              "  </thead>\n",
              "  <tbody>\n",
              "    <tr>\n",
              "      <th>0</th>\n",
              "      <td>1.09787</td>\n",
              "      <td>1.09794</td>\n",
              "      <td>1.09689</td>\n",
              "      <td>1.09692</td>\n",
              "    </tr>\n",
              "    <tr>\n",
              "      <th>1</th>\n",
              "      <td>1.09692</td>\n",
              "      <td>1.09719</td>\n",
              "      <td>1.09678</td>\n",
              "      <td>1.09685</td>\n",
              "    </tr>\n",
              "    <tr>\n",
              "      <th>2</th>\n",
              "      <td>1.09684</td>\n",
              "      <td>1.09767</td>\n",
              "      <td>1.09684</td>\n",
              "      <td>1.09763</td>\n",
              "    </tr>\n",
              "    <tr>\n",
              "      <th>3</th>\n",
              "      <td>1.09764</td>\n",
              "      <td>1.09847</td>\n",
              "      <td>1.09704</td>\n",
              "      <td>1.09811</td>\n",
              "    </tr>\n",
              "    <tr>\n",
              "      <th>4</th>\n",
              "      <td>1.09811</td>\n",
              "      <td>1.09824</td>\n",
              "      <td>1.09770</td>\n",
              "      <td>1.09789</td>\n",
              "    </tr>\n",
              "    <tr>\n",
              "      <th>...</th>\n",
              "      <td>...</td>\n",
              "      <td>...</td>\n",
              "      <td>...</td>\n",
              "      <td>...</td>\n",
              "    </tr>\n",
              "    <tr>\n",
              "      <th>10517</th>\n",
              "      <td>1.22251</td>\n",
              "      <td>1.22279</td>\n",
              "      <td>1.22180</td>\n",
              "      <td>1.22222</td>\n",
              "    </tr>\n",
              "    <tr>\n",
              "      <th>10518</th>\n",
              "      <td>1.22221</td>\n",
              "      <td>1.22221</td>\n",
              "      <td>1.22149</td>\n",
              "      <td>1.22166</td>\n",
              "    </tr>\n",
              "    <tr>\n",
              "      <th>10519</th>\n",
              "      <td>1.22166</td>\n",
              "      <td>1.22199</td>\n",
              "      <td>1.22101</td>\n",
              "      <td>1.22194</td>\n",
              "    </tr>\n",
              "    <tr>\n",
              "      <th>10520</th>\n",
              "      <td>1.22194</td>\n",
              "      <td>1.22228</td>\n",
              "      <td>1.22091</td>\n",
              "      <td>1.22098</td>\n",
              "    </tr>\n",
              "    <tr>\n",
              "      <th>10521</th>\n",
              "      <td>1.22096</td>\n",
              "      <td>1.22167</td>\n",
              "      <td>1.22096</td>\n",
              "      <td>1.22154</td>\n",
              "    </tr>\n",
              "  </tbody>\n",
              "</table>\n",
              "<p>10522 rows × 4 columns</p>\n",
              "</div>\n",
              "      <button class=\"colab-df-convert\" onclick=\"convertToInteractive('df-1f5ba63e-f66e-4e41-bf72-5d2d01cc0c99')\"\n",
              "              title=\"Convert this dataframe to an interactive table.\"\n",
              "              style=\"display:none;\">\n",
              "        \n",
              "  <svg xmlns=\"http://www.w3.org/2000/svg\" height=\"24px\"viewBox=\"0 0 24 24\"\n",
              "       width=\"24px\">\n",
              "    <path d=\"M0 0h24v24H0V0z\" fill=\"none\"/>\n",
              "    <path d=\"M18.56 5.44l.94 2.06.94-2.06 2.06-.94-2.06-.94-.94-2.06-.94 2.06-2.06.94zm-11 1L8.5 8.5l.94-2.06 2.06-.94-2.06-.94L8.5 2.5l-.94 2.06-2.06.94zm10 10l.94 2.06.94-2.06 2.06-.94-2.06-.94-.94-2.06-.94 2.06-2.06.94z\"/><path d=\"M17.41 7.96l-1.37-1.37c-.4-.4-.92-.59-1.43-.59-.52 0-1.04.2-1.43.59L10.3 9.45l-7.72 7.72c-.78.78-.78 2.05 0 2.83L4 21.41c.39.39.9.59 1.41.59.51 0 1.02-.2 1.41-.59l7.78-7.78 2.81-2.81c.8-.78.8-2.07 0-2.86zM5.41 20L4 18.59l7.72-7.72 1.47 1.35L5.41 20z\"/>\n",
              "  </svg>\n",
              "      </button>\n",
              "      \n",
              "  <style>\n",
              "    .colab-df-container {\n",
              "      display:flex;\n",
              "      flex-wrap:wrap;\n",
              "      gap: 12px;\n",
              "    }\n",
              "\n",
              "    .colab-df-convert {\n",
              "      background-color: #E8F0FE;\n",
              "      border: none;\n",
              "      border-radius: 50%;\n",
              "      cursor: pointer;\n",
              "      display: none;\n",
              "      fill: #1967D2;\n",
              "      height: 32px;\n",
              "      padding: 0 0 0 0;\n",
              "      width: 32px;\n",
              "    }\n",
              "\n",
              "    .colab-df-convert:hover {\n",
              "      background-color: #E2EBFA;\n",
              "      box-shadow: 0px 1px 2px rgba(60, 64, 67, 0.3), 0px 1px 3px 1px rgba(60, 64, 67, 0.15);\n",
              "      fill: #174EA6;\n",
              "    }\n",
              "\n",
              "    [theme=dark] .colab-df-convert {\n",
              "      background-color: #3B4455;\n",
              "      fill: #D2E3FC;\n",
              "    }\n",
              "\n",
              "    [theme=dark] .colab-df-convert:hover {\n",
              "      background-color: #434B5C;\n",
              "      box-shadow: 0px 1px 3px 1px rgba(0, 0, 0, 0.15);\n",
              "      filter: drop-shadow(0px 1px 2px rgba(0, 0, 0, 0.3));\n",
              "      fill: #FFFFFF;\n",
              "    }\n",
              "  </style>\n",
              "\n",
              "      <script>\n",
              "        const buttonEl =\n",
              "          document.querySelector('#df-1f5ba63e-f66e-4e41-bf72-5d2d01cc0c99 button.colab-df-convert');\n",
              "        buttonEl.style.display =\n",
              "          google.colab.kernel.accessAllowed ? 'block' : 'none';\n",
              "\n",
              "        async function convertToInteractive(key) {\n",
              "          const element = document.querySelector('#df-1f5ba63e-f66e-4e41-bf72-5d2d01cc0c99');\n",
              "          const dataTable =\n",
              "            await google.colab.kernel.invokeFunction('convertToInteractive',\n",
              "                                                     [key], {});\n",
              "          if (!dataTable) return;\n",
              "\n",
              "          const docLinkHtml = 'Like what you see? Visit the ' +\n",
              "            '<a target=\"_blank\" href=https://colab.research.google.com/notebooks/data_table.ipynb>data table notebook</a>'\n",
              "            + ' to learn more about interactive tables.';\n",
              "          element.innerHTML = '';\n",
              "          dataTable['output_type'] = 'display_data';\n",
              "          await google.colab.output.renderOutput(dataTable, element);\n",
              "          const docLink = document.createElement('div');\n",
              "          docLink.innerHTML = docLinkHtml;\n",
              "          element.appendChild(docLink);\n",
              "        }\n",
              "      </script>\n",
              "    </div>\n",
              "  </div>\n",
              "  "
            ]
          },
          "metadata": {},
          "execution_count": 70
        }
      ],
      "source": [
        "Test_MinMax_30"
      ]
    },
    {
      "cell_type": "markdown",
      "metadata": {
        "id": "Ilh9P0-_TLUl"
      },
      "source": [
        "# **Plot**"
      ]
    },
    {
      "cell_type": "code",
      "execution_count": null,
      "metadata": {
        "id": "5wuy-xLSRVKx",
        "colab": {
          "base_uri": "https://localhost:8080/",
          "height": 546
        },
        "outputId": "98027627-a149-415e-b1d6-25e099cfb801"
      },
      "outputs": [
        {
          "output_type": "display_data",
          "data": {
            "text/plain": [
              "<Figure size 1200x600 with 1 Axes>"
            ],
            "image/png": "[encoded data removed]"
          },
          "metadata": {}
        }
      ],
      "source": [
        "plt.figure(figsize=(12,6))\n",
        "\n",
        "plt.plot(ytest_rescale[(len(ytest_rescale)-450):,0],'blue', linewidth=1.2)\n",
        "plt.plot(Test_Pred_cnn[(len(Test_Pred_cnn)-450):,0],'green', linewidth=1.2)\n",
        "#plt.plot(Test_Pred_lstm[(len(Test_Pred_lstm)-90):,0],'g')\n",
        "plt.legend(('Actual Open Price', 'Multi CNN'), loc='upper left')\n",
        "plt.grid(True, linestyle='--', linewidth=0.5, alpha=0.7)\n",
        "#plt.title(\"HIGH EURUSD + multi-CNN\")\n",
        "plt.show()"
      ]
    },
    {
      "cell_type": "code",
      "execution_count": null,
      "metadata": {
        "id": "YTNoztxdRVKy",
        "colab": {
          "base_uri": "https://localhost:8080/",
          "height": 546
        },
        "outputId": "59487681-93af-4ae3-e9bf-7664cca529cd"
      },
      "outputs": [
        {
          "output_type": "display_data",
          "data": {
            "text/plain": [
              "<Figure size 1200x600 with 1 Axes>"
            ],
            "image/png": "[encoded data removed]"
          },
          "metadata": {}
        }
      ],
      "source": [
        "plt.figure(figsize=(12,6))\n",
        "\n",
        "plt.plot(ytest_rescale[(len(ytest_rescale)-450):,1],'blue', linewidth=1.5)\n",
        "plt.plot(Test_Pred_cnn[(len(Test_Pred_cnn)-450):,1],'green', linewidth=1.5)\n",
        "#plt.plot(Test_Pred_lstm[(len(Test_Pred_lstm)-90):,1],'g')\n",
        "plt.legend(('Actual High Price', 'Multi CNN'), loc='upper left')\n",
        "plt.grid(True, linestyle='--', linewidth=0.5, alpha=0.7)\n",
        "#plt.title(\"HIGH EURUSD + multi-CNN\")\n",
        "plt.show()"
      ]
    },
    {
      "cell_type": "code",
      "execution_count": null,
      "metadata": {
        "id": "2cazhs5JRVKy",
        "colab": {
          "base_uri": "https://localhost:8080/",
          "height": 546
        },
        "outputId": "b9c31b00-8a14-43b4-c957-b5d3a6ff77bb"
      },
      "outputs": [
        {
          "output_type": "display_data",
          "data": {
            "text/plain": [
              "<Figure size 1200x600 with 1 Axes>"
            ],
            "image/png": "[encoded data removed]"
          },
          "metadata": {}
        }
      ],
      "source": [
        "plt.figure(figsize=(12,6))\n",
        "plt.plot(ytest_rescale[(len(ytest_rescale)-450):,2],'blue', linewidth=1.5)\n",
        "plt.plot(Test_Pred_cnn[(len(Test_Pred_cnn)-450):,2],'green', linewidth=1.5)\n",
        "#plt.plot(Test_Pred_lstm[(len(Test_Pred_lstm)-90):,2],'g')\n",
        "plt.legend(('Actual Low Price', 'Mlti CNN'), loc='upper left')\n",
        "plt.grid(True, linestyle='--', linewidth=1, alpha=0.7)\n",
        "#plt.title(\"LOW EURUSD + multi-CNN 30\")\n",
        "plt.show()"
      ]
    },
    {
      "cell_type": "code",
      "execution_count": null,
      "metadata": {
        "id": "46WuCiCfRVKz",
        "colab": {
          "base_uri": "https://localhost:8080/",
          "height": 546
        },
        "outputId": "5b1df217-3193-444e-e68b-e2e0450cfe1d"
      },
      "outputs": [
        {
          "output_type": "display_data",
          "data": {
            "text/plain": [
              "<Figure size 1200x600 with 1 Axes>"
            ],
            "image/png": "[encoded data removed]"
          },
          "metadata": {}
        }
      ],
      "source": [
        "plt.figure(figsize=(12,6))\n",
        "\n",
        "plt.plot(ytest_rescale[(len(ytest_rescale)-450):,3],'blue',linewidth=1.5)\n",
        "plt.plot(Test_Pred_cnn[(len(Test_Pred_cnn)-450):,3],'green',linewidth=1.5)\n",
        "#plt.plot(Test_Pred_lstm[(len(Test_Pred_lstm)-90):,3],'g')\n",
        "plt.legend(('Actual Close Price', 'Multi CNN'), loc='upper left')\n",
        "plt.grid(True, linestyle='--', linewidth=1.5, alpha=0.7)\n",
        "#plt.title(\"CLOSE EURUSD + multi-CNN \")\n",
        "plt.show()"
      ]
    }
  ],
  "metadata": {
    "accelerator": "GPU",
    "colab": {
      "provenance": [],
      "gpuType": "T4",
      "collapsed_sections": [
        "JH3fs05cR41W",
        "rXYSvttMSOk-",
        "1GU9Vid0St1G"
      ]
    },
    "kernelspec": {
      "display_name": "Python 3",
      "name": "python3"
    },
    "language_info": {
      "name": "python"
    }
  },
  "nbformat": 4,
  "nbformat_minor": 0
}